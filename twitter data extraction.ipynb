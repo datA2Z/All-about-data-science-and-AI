{
 "cells": [
  {
   "cell_type": "markdown",
   "metadata": {},
   "source": [
    "Install require libraries. Twitter has a limitation of data extraction. you can find more information [Here](https://developer.twitter.com/en/docs/basics/rate-limiting)"
   ]
  },
  {
   "cell_type": "code",
   "execution_count": 30,
   "metadata": {},
   "outputs": [],
   "source": [
    "#!pip install tweepy\n",
    "#!pip install matplotlib\n",
    "#!pip install pandas\n",
    "#!pip install textblob\n",
    "#!python -m textblob.download_corpora"
   ]
  },
  {
   "cell_type": "code",
   "execution_count": 31,
   "metadata": {},
   "outputs": [],
   "source": [
    "# Import libraries\n",
    "import tweepy\n",
    "from tweepy import OAuthHandler\n",
    "import pandas as pd\n",
    "import os\n",
    "os.chdir(\"E:/Social_media_pro\")\n",
    "    \n",
    "# Keys that provided by Twitter API\n",
    "consumer_key = 'CdUBIgxcOjmdxE6gZflyqk4yj'\n",
    "consumer_secret = '4PPUFnnc9qMHmKJuP8rGiiZHQklRCmJGO9QxPRPj2ulrQI0StN'\n",
    "access_token = '2212709148-PhNlBxiktIJSUlvqBvjfSrszm9eCTZRo0RCs88L'\n",
    "access_secret = '0ZsrhTmAg6AvWFStX7kR6oQKiOZbaovghH2kfVnXVjyjw'\n",
    " \n",
    "auth = OAuthHandler(consumer_key, consumer_secret)\n",
    "auth.set_access_token(access_token, access_secret)\n",
    "api = tweepy.API(auth)"
   ]
  },
  {
   "cell_type": "markdown",
   "metadata": {},
   "source": [
    "### We can extract data from own and other users profile."
   ]
  },
  {
   "cell_type": "code",
   "execution_count": 32,
   "metadata": {},
   "outputs": [],
   "source": [
    "#for status in tweepy.Cursor(api.home_timeline).items(50):\n",
    "#    print(status.text)"
   ]
  },
  {
   "cell_type": "markdown",
   "metadata": {},
   "source": [
    "### We also can twitter data extraction using certain keywords. in this case keyword is \"jackets\" for 1000 Tweets."
   ]
  },
  {
   "cell_type": "code",
   "execution_count": 33,
   "metadata": {},
   "outputs": [
    {
     "name": "stdout",
     "output_type": "stream",
     "text": [
      "1000\n"
     ]
    }
   ],
   "source": [
    "results = []\n",
    "\n",
    "#Get the first 5000 items based on the search query\n",
    "for tweet in tweepy.Cursor(api.search, q='%jackets').items(1000):\n",
    "    results.append(tweet)\n",
    "\n",
    "# Verify the number of items returned\n",
    "print (len(results))"
   ]
  },
  {
   "cell_type": "markdown",
   "metadata": {},
   "source": [
    "#### This program will convert raw data into structured data and save into csv file. "
   ]
  },
  {
   "cell_type": "code",
   "execution_count": 34,
   "metadata": {},
   "outputs": [],
   "source": [
    "# Create a function to convert a given list of tweets into a Pandas DataFrame.\n",
    "# The DataFrame will consist of only the values, which I think might be useful for analysis...\n",
    "\n",
    "\n",
    "def toDataFrame(tweets):\n",
    "\n",
    "    DataSet = pd.DataFrame()\n",
    "\n",
    "    DataSet['tweetID'] = [tweet.id for tweet in tweets]\n",
    "    DataSet['tweetText'] = [tweet.text for tweet in tweets]\n",
    "    DataSet['tweetRetweetCt'] = [tweet.retweet_count for tweet \n",
    "    in tweets]\n",
    "    DataSet['tweetFavoriteCt'] = [tweet.favorite_count for tweet \n",
    "    in tweets]\n",
    "    DataSet['tweetSource'] = [tweet.source for tweet in tweets]\n",
    "    DataSet['tweetCreated'] = [tweet.created_at for tweet in tweets]\n",
    "\n",
    "\n",
    "    DataSet['userID'] = [tweet.user.id for tweet in tweets]\n",
    "    DataSet['userScreen'] = [tweet.user.screen_name for tweet \n",
    "    in tweets]\n",
    "    DataSet['userName'] = [tweet.user.name for tweet in tweets]\n",
    "    DataSet['userCreateDt'] = [tweet.user.created_at for tweet \n",
    "    in tweets]\n",
    "    DataSet['userDesc'] = [tweet.user.description for tweet in tweets]\n",
    "    DataSet['userFollowerCt'] = [tweet.user.followers_count for tweet \n",
    "    in tweets]\n",
    "    DataSet['userFriendsCt'] = [tweet.user.friends_count for tweet \n",
    "    in tweets]\n",
    "    DataSet['userLocation'] = [tweet.user.location for tweet in tweets]\n",
    "    DataSet['userTimezone'] = [tweet.user.time_zone for tweet \n",
    "    in tweets]\n",
    "\n",
    "    return DataSet\n",
    "\n",
    "#Pass the tweets list to the above function to create a DataFrame\n",
    "DataSet = toDataFrame(results)\n",
    "DataSet.to_csv(\"jeans_1000_Tweets.csv\")"
   ]
  },
  {
   "cell_type": "code",
   "execution_count": 35,
   "metadata": {},
   "outputs": [
    {
     "data": {
      "text/html": [
       "<div>\n",
       "<style scoped>\n",
       "    .dataframe tbody tr th:only-of-type {\n",
       "        vertical-align: middle;\n",
       "    }\n",
       "\n",
       "    .dataframe tbody tr th {\n",
       "        vertical-align: top;\n",
       "    }\n",
       "\n",
       "    .dataframe thead th {\n",
       "        text-align: right;\n",
       "    }\n",
       "</style>\n",
       "<table border=\"1\" class=\"dataframe\">\n",
       "  <thead>\n",
       "    <tr style=\"text-align: right;\">\n",
       "      <th></th>\n",
       "      <th>tweetID</th>\n",
       "      <th>tweetText</th>\n",
       "      <th>tweetRetweetCt</th>\n",
       "      <th>tweetFavoriteCt</th>\n",
       "      <th>tweetSource</th>\n",
       "      <th>tweetCreated</th>\n",
       "      <th>userID</th>\n",
       "      <th>userScreen</th>\n",
       "      <th>userName</th>\n",
       "      <th>userCreateDt</th>\n",
       "      <th>userDesc</th>\n",
       "      <th>userFollowerCt</th>\n",
       "      <th>userFriendsCt</th>\n",
       "      <th>userLocation</th>\n",
       "      <th>userTimezone</th>\n",
       "    </tr>\n",
       "  </thead>\n",
       "  <tbody>\n",
       "    <tr>\n",
       "      <th>0</th>\n",
       "      <td>1113155251379421190</td>\n",
       "      <td>RT @cervix_chervic: thought abt me naman po si...</td>\n",
       "      <td>0</td>\n",
       "      <td>0</td>\n",
       "      <td>Twitter for Android</td>\n",
       "      <td>2019-04-02 19:04:28</td>\n",
       "      <td>969898824557723649</td>\n",
       "      <td>apeheaaad</td>\n",
       "      <td>ᴄᴇʌɴɴᴇ</td>\n",
       "      <td>2018-03-03 11:34:34</td>\n",
       "      <td>26 8 1 9 14 5 19 19</td>\n",
       "      <td>315</td>\n",
       "      <td>315</td>\n",
       "      <td></td>\n",
       "      <td>None</td>\n",
       "    </tr>\n",
       "    <tr>\n",
       "      <th>1</th>\n",
       "      <td>1113155112095105032</td>\n",
       "      <td>RT @ARipple_DAsport: Local sports briefs for A...</td>\n",
       "      <td>4</td>\n",
       "      <td>0</td>\n",
       "      <td>Twitter for iPhone</td>\n",
       "      <td>2019-04-02 19:03:54</td>\n",
       "      <td>956669749676650496</td>\n",
       "      <td>hannah_slope</td>\n",
       "      <td>hannah slope</td>\n",
       "      <td>2018-01-25 23:26:57</td>\n",
       "      <td>✰ SRU ‘23 ✰</td>\n",
       "      <td>213</td>\n",
       "      <td>186</td>\n",
       "      <td></td>\n",
       "      <td>None</td>\n",
       "    </tr>\n",
       "    <tr>\n",
       "      <th>2</th>\n",
       "      <td>1113155090439901185</td>\n",
       "      <td>RT @hattiesoykan: bill hader wears good jacket...</td>\n",
       "      <td>181</td>\n",
       "      <td>0</td>\n",
       "      <td>Twitter for iPhone</td>\n",
       "      <td>2019-04-02 19:03:49</td>\n",
       "      <td>844444645</td>\n",
       "      <td>caramcdade</td>\n",
       "      <td>cara MC</td>\n",
       "      <td>2012-09-24 22:48:06</td>\n",
       "      <td>“i always look annoyed. if you look annoyed al...</td>\n",
       "      <td>147</td>\n",
       "      <td>216</td>\n",
       "      <td></td>\n",
       "      <td>None</td>\n",
       "    </tr>\n",
       "    <tr>\n",
       "      <th>3</th>\n",
       "      <td>1113154920797081605</td>\n",
       "      <td>RT @shauna_brophy: Dublin is literally just ma...</td>\n",
       "      <td>12</td>\n",
       "      <td>0</td>\n",
       "      <td>Twitter for iPhone</td>\n",
       "      <td>2019-04-02 19:03:09</td>\n",
       "      <td>2507944862</td>\n",
       "      <td>Akpata729</td>\n",
       "      <td>Ollie Akpata</td>\n",
       "      <td>2014-05-19 17:10:48</td>\n",
       "      <td>Enjoy your life cause there’s only 1 life 😊 ✍🏾...</td>\n",
       "      <td>298</td>\n",
       "      <td>384</td>\n",
       "      <td>Ireland, Blanchardstown</td>\n",
       "      <td>None</td>\n",
       "    </tr>\n",
       "    <tr>\n",
       "      <th>4</th>\n",
       "      <td>1113154912832061446</td>\n",
       "      <td>RT @Rico486: @reubing Lol. I'll go scream that...</td>\n",
       "      <td>2</td>\n",
       "      <td>0</td>\n",
       "      <td>Twitter for iPhone</td>\n",
       "      <td>2019-04-02 19:03:07</td>\n",
       "      <td>728989901111365632</td>\n",
       "      <td>ladylackey289</td>\n",
       "      <td>Nan Lackey</td>\n",
       "      <td>2016-05-07 16:48:31</td>\n",
       "      <td></td>\n",
       "      <td>545</td>\n",
       "      <td>221</td>\n",
       "      <td>Florida, USA</td>\n",
       "      <td>None</td>\n",
       "    </tr>\n",
       "  </tbody>\n",
       "</table>\n",
       "</div>"
      ],
      "text/plain": [
       "               tweetID                                          tweetText  \\\n",
       "0  1113155251379421190  RT @cervix_chervic: thought abt me naman po si...   \n",
       "1  1113155112095105032  RT @ARipple_DAsport: Local sports briefs for A...   \n",
       "2  1113155090439901185  RT @hattiesoykan: bill hader wears good jacket...   \n",
       "3  1113154920797081605  RT @shauna_brophy: Dublin is literally just ma...   \n",
       "4  1113154912832061446  RT @Rico486: @reubing Lol. I'll go scream that...   \n",
       "\n",
       "   tweetRetweetCt  tweetFavoriteCt          tweetSource        tweetCreated  \\\n",
       "0               0                0  Twitter for Android 2019-04-02 19:04:28   \n",
       "1               4                0   Twitter for iPhone 2019-04-02 19:03:54   \n",
       "2             181                0   Twitter for iPhone 2019-04-02 19:03:49   \n",
       "3              12                0   Twitter for iPhone 2019-04-02 19:03:09   \n",
       "4               2                0   Twitter for iPhone 2019-04-02 19:03:07   \n",
       "\n",
       "               userID     userScreen      userName        userCreateDt  \\\n",
       "0  969898824557723649      apeheaaad        ᴄᴇʌɴɴᴇ 2018-03-03 11:34:34   \n",
       "1  956669749676650496   hannah_slope  hannah slope 2018-01-25 23:26:57   \n",
       "2           844444645     caramcdade       cara MC 2012-09-24 22:48:06   \n",
       "3          2507944862      Akpata729  Ollie Akpata 2014-05-19 17:10:48   \n",
       "4  728989901111365632  ladylackey289    Nan Lackey 2016-05-07 16:48:31   \n",
       "\n",
       "                                            userDesc  userFollowerCt  \\\n",
       "0                                26 8 1 9 14 5 19 19             315   \n",
       "1                                        ✰ SRU ‘23 ✰             213   \n",
       "2  “i always look annoyed. if you look annoyed al...             147   \n",
       "3  Enjoy your life cause there’s only 1 life 😊 ✍🏾...             298   \n",
       "4                                                                545   \n",
       "\n",
       "   userFriendsCt             userLocation userTimezone  \n",
       "0            315                                  None  \n",
       "1            186                                  None  \n",
       "2            216                                  None  \n",
       "3            384  Ireland, Blanchardstown         None  \n",
       "4            221             Florida, USA         None  "
      ]
     },
     "execution_count": 35,
     "metadata": {},
     "output_type": "execute_result"
    }
   ],
   "source": [
    "# Print data that we extracted from Twitter.\n",
    "DataSet.head()"
   ]
  },
  {
   "cell_type": "markdown",
   "metadata": {},
   "source": [
    "This simple data extraction form Twitter. we also can do many operations with this data and find the insight. Other social media also provide similar kind of API to extraction to build and analysis of data. Kindly contact me in you have any questions."
   ]
  }
 ],
 "metadata": {
  "kernelspec": {
   "display_name": "Python 3",
   "language": "python",
   "name": "python3"
  },
  "language_info": {
   "codemirror_mode": {
    "name": "ipython",
    "version": 3
   },
   "file_extension": ".py",
   "mimetype": "text/x-python",
   "name": "python",
   "nbconvert_exporter": "python",
   "pygments_lexer": "ipython3",
   "version": "3.6.0"
  }
 },
 "nbformat": 4,
 "nbformat_minor": 2
}
