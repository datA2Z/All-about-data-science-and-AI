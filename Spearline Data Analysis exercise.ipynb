{
 "cells": [
  {
   "cell_type": "code",
   "execution_count": 1,
   "metadata": {
    "collapsed": false
   },
   "outputs": [],
   "source": [
    "#!pip install tabulate "
   ]
  },
  {
   "cell_type": "code",
   "execution_count": 2,
   "metadata": {
    "collapsed": false
   },
   "outputs": [],
   "source": [
    "# Load Requires packages for analysis\n",
    "from __future__ import division\n",
    "import numpy as np\n",
    "import matplotlib.pyplot as plt\n",
    "import pandas as pd\n",
    "import seaborn as sns\n",
    "import os\n",
    "#import time\n",
    "from time import time\n",
    "os.chdir(\"F:/Spearline/\")\n",
    "%matplotlib inline\n",
    "import sys, os\n",
    "from math import sqrt, pi, atan2, log, pow, cos, log, exp\n",
    "#plt.rcParams['figure.dpi'] = 100\n",
    "from tabulate import tabulate\n",
    "from IPython.core.display import Image, display\n",
    "import warnings\n",
    "warnings.filterwarnings('ignore')\n",
    "plt.rcParams['figure.figsize'] = [10, 5]"
   ]
  },
  {
   "cell_type": "code",
   "execution_count": 3,
   "metadata": {
    "collapsed": false
   },
   "outputs": [],
   "source": [
    "#Load data in to python(Pandas) \n",
    "data = pd.read_csv('DataAnalytics2.csv')"
   ]
  },
  {
   "cell_type": "code",
   "execution_count": 4,
   "metadata": {
    "collapsed": false
   },
   "outputs": [
    {
     "data": {
      "text/html": [
       "<div>\n",
       "<table border=\"1\" class=\"dataframe\">\n",
       "  <thead>\n",
       "    <tr style=\"text-align: right;\">\n",
       "      <th></th>\n",
       "      <th>ID</th>\n",
       "      <th>number</th>\n",
       "      <th>country_name</th>\n",
       "      <th>call_connect_time</th>\n",
       "      <th>call_end_time</th>\n",
       "      <th>PDD</th>\n",
       "      <th>test_counter</th>\n",
       "      <th>PESQ_score</th>\n",
       "      <th>MOS_Ie</th>\n",
       "      <th>PESQ_raw</th>\n",
       "      <th>...</th>\n",
       "      <th>DC_mean_deg</th>\n",
       "      <th>ASL_deg</th>\n",
       "      <th>RMS_deg</th>\n",
       "      <th>ASL_GAIN_refvdeg</th>\n",
       "      <th>NOISE_GAIN_refvdeg</th>\n",
       "      <th>DELAY_mean</th>\n",
       "      <th>DELAY_min</th>\n",
       "      <th>DELAY_max</th>\n",
       "      <th>DELAY_stddev</th>\n",
       "      <th>PESQ_label</th>\n",
       "    </tr>\n",
       "  </thead>\n",
       "  <tbody>\n",
       "    <tr>\n",
       "      <th>0</th>\n",
       "      <td>2603510_1_2</td>\n",
       "      <td>8007231234</td>\n",
       "      <td>Germany</td>\n",
       "      <td>04-04-2017 07:11</td>\n",
       "      <td>04-04-2017 07:12</td>\n",
       "      <td>5</td>\n",
       "      <td>1</td>\n",
       "      <td>4.26</td>\n",
       "      <td>0.0</td>\n",
       "      <td>4.26</td>\n",
       "      <td>...</td>\n",
       "      <td>-1.06</td>\n",
       "      <td>-60.43</td>\n",
       "      <td>-20.51</td>\n",
       "      <td>4.97</td>\n",
       "      <td>5.66</td>\n",
       "      <td>0.03</td>\n",
       "      <td>0.03</td>\n",
       "      <td>0.03</td>\n",
       "      <td>0.00</td>\n",
       "      <td>1</td>\n",
       "    </tr>\n",
       "    <tr>\n",
       "      <th>1</th>\n",
       "      <td>2603906_1_2</td>\n",
       "      <td>8007231234</td>\n",
       "      <td>Germany</td>\n",
       "      <td>04-04-2017 07:26</td>\n",
       "      <td>04-04-2017 07:27</td>\n",
       "      <td>4</td>\n",
       "      <td>1</td>\n",
       "      <td>4.20</td>\n",
       "      <td>0.0</td>\n",
       "      <td>4.20</td>\n",
       "      <td>...</td>\n",
       "      <td>-1.05</td>\n",
       "      <td>-60.63</td>\n",
       "      <td>-20.50</td>\n",
       "      <td>4.97</td>\n",
       "      <td>5.73</td>\n",
       "      <td>0.01</td>\n",
       "      <td>0.01</td>\n",
       "      <td>0.01</td>\n",
       "      <td>0.00</td>\n",
       "      <td>1</td>\n",
       "    </tr>\n",
       "    <tr>\n",
       "      <th>2</th>\n",
       "      <td>2604028_1_2</td>\n",
       "      <td>345471234</td>\n",
       "      <td>Switzerland</td>\n",
       "      <td>04-04-2017 07:40</td>\n",
       "      <td>04-04-2017 07:40</td>\n",
       "      <td>3</td>\n",
       "      <td>1</td>\n",
       "      <td>4.31</td>\n",
       "      <td>0.0</td>\n",
       "      <td>4.15</td>\n",
       "      <td>...</td>\n",
       "      <td>1.19</td>\n",
       "      <td>-61.48</td>\n",
       "      <td>-20.83</td>\n",
       "      <td>4.65</td>\n",
       "      <td>4.62</td>\n",
       "      <td>0.03</td>\n",
       "      <td>0.03</td>\n",
       "      <td>0.03</td>\n",
       "      <td>0.00</td>\n",
       "      <td>1</td>\n",
       "    </tr>\n",
       "    <tr>\n",
       "      <th>3</th>\n",
       "      <td>2604023_1_2</td>\n",
       "      <td>201401234</td>\n",
       "      <td>Sweden</td>\n",
       "      <td>04-04-2017 07:41</td>\n",
       "      <td>04-04-2017 07:41</td>\n",
       "      <td>2</td>\n",
       "      <td>1</td>\n",
       "      <td>4.24</td>\n",
       "      <td>0.0</td>\n",
       "      <td>4.27</td>\n",
       "      <td>...</td>\n",
       "      <td>0.15</td>\n",
       "      <td>-65.37</td>\n",
       "      <td>-25.63</td>\n",
       "      <td>-0.16</td>\n",
       "      <td>0.66</td>\n",
       "      <td>-0.03</td>\n",
       "      <td>-0.08</td>\n",
       "      <td>0.04</td>\n",
       "      <td>0.04</td>\n",
       "      <td>1</td>\n",
       "    </tr>\n",
       "    <tr>\n",
       "      <th>4</th>\n",
       "      <td>2604131_1_2</td>\n",
       "      <td>805541234</td>\n",
       "      <td>France</td>\n",
       "      <td>04-04-2017 07:41</td>\n",
       "      <td>04-04-2017 07:42</td>\n",
       "      <td>25</td>\n",
       "      <td>1</td>\n",
       "      <td>4.29</td>\n",
       "      <td>0.0</td>\n",
       "      <td>4.27</td>\n",
       "      <td>...</td>\n",
       "      <td>5.74</td>\n",
       "      <td>-61.10</td>\n",
       "      <td>-20.72</td>\n",
       "      <td>4.75</td>\n",
       "      <td>5.00</td>\n",
       "      <td>0.00</td>\n",
       "      <td>0.00</td>\n",
       "      <td>0.00</td>\n",
       "      <td>0.00</td>\n",
       "      <td>1</td>\n",
       "    </tr>\n",
       "  </tbody>\n",
       "</table>\n",
       "<p>5 rows × 24 columns</p>\n",
       "</div>"
      ],
      "text/plain": [
       "            ID      number country_name call_connect_time     call_end_time  \\\n",
       "0  2603510_1_2  8007231234      Germany  04-04-2017 07:11  04-04-2017 07:12   \n",
       "1  2603906_1_2  8007231234      Germany  04-04-2017 07:26  04-04-2017 07:27   \n",
       "2  2604028_1_2   345471234  Switzerland  04-04-2017 07:40  04-04-2017 07:40   \n",
       "3  2604023_1_2   201401234       Sweden  04-04-2017 07:41  04-04-2017 07:41   \n",
       "4  2604131_1_2   805541234       France  04-04-2017 07:41  04-04-2017 07:42   \n",
       "\n",
       "   PDD  test_counter  PESQ_score  MOS_Ie  PESQ_raw     ...      DC_mean_deg  \\\n",
       "0    5             1        4.26     0.0      4.26     ...            -1.06   \n",
       "1    4             1        4.20     0.0      4.20     ...            -1.05   \n",
       "2    3             1        4.31     0.0      4.15     ...             1.19   \n",
       "3    2             1        4.24     0.0      4.27     ...             0.15   \n",
       "4   25             1        4.29     0.0      4.27     ...             5.74   \n",
       "\n",
       "   ASL_deg  RMS_deg  ASL_GAIN_refvdeg  NOISE_GAIN_refvdeg  DELAY_mean  \\\n",
       "0   -60.43   -20.51              4.97                5.66        0.03   \n",
       "1   -60.63   -20.50              4.97                5.73        0.01   \n",
       "2   -61.48   -20.83              4.65                4.62        0.03   \n",
       "3   -65.37   -25.63             -0.16                0.66       -0.03   \n",
       "4   -61.10   -20.72              4.75                5.00        0.00   \n",
       "\n",
       "   DELAY_min  DELAY_max  DELAY_stddev  PESQ_label  \n",
       "0       0.03       0.03          0.00           1  \n",
       "1       0.01       0.01          0.00           1  \n",
       "2       0.03       0.03          0.00           1  \n",
       "3      -0.08       0.04          0.04           1  \n",
       "4       0.00       0.00          0.00           1  \n",
       "\n",
       "[5 rows x 24 columns]"
      ]
     },
     "execution_count": 4,
     "metadata": {},
     "output_type": "execute_result"
    }
   ],
   "source": [
    "# Check the data\n",
    "data.head(5)"
   ]
  },
  {
   "cell_type": "markdown",
   "metadata": {
    "collapsed": false
   },
   "source": [
    "### Lets Check data "
   ]
  },
  {
   "cell_type": "markdown",
   "metadata": {
    "collapsed": false
   },
   "source": [
    "Let's check any variable containing missing values"
   ]
  },
  {
   "cell_type": "code",
   "execution_count": 5,
   "metadata": {
    "collapsed": false
   },
   "outputs": [
    {
     "data": {
      "text/plain": [
       "ID                    False\n",
       "number                False\n",
       "country_name          False\n",
       "call_connect_time     False\n",
       "call_end_time         False\n",
       "PDD                   False\n",
       "test_counter          False\n",
       "PESQ_score            False\n",
       "MOS_Ie                False\n",
       "PESQ_raw              False\n",
       "DC_mean_ref           False\n",
       "ASL_ref               False\n",
       "NOISE_mean            False\n",
       "RMS_ref               False\n",
       "DC_mean_deg           False\n",
       "ASL_deg               False\n",
       "RMS_deg               False\n",
       "ASL_GAIN_refvdeg      False\n",
       "NOISE_GAIN_refvdeg    False\n",
       "DELAY_mean            False\n",
       "DELAY_min             False\n",
       "DELAY_max             False\n",
       "DELAY_stddev          False\n",
       "PESQ_label            False\n",
       "dtype: bool"
      ]
     },
     "execution_count": 5,
     "metadata": {},
     "output_type": "execute_result"
    }
   ],
   "source": [
    "# Check data is containing any missing value or not.\n",
    "data.isnull().any()"
   ]
  },
  {
   "cell_type": "markdown",
   "metadata": {
    "collapsed": false
   },
   "source": [
    "# Let's do some Data exploration!"
   ]
  },
  {
   "cell_type": "markdown",
   "metadata": {},
   "source": [
    "Let's understand the characteristics of different columns."
   ]
  },
  {
   "cell_type": "code",
   "execution_count": 6,
   "metadata": {
    "collapsed": false
   },
   "outputs": [
    {
     "name": "stdout",
     "output_type": "stream",
     "text": [
      "<class 'pandas.core.frame.DataFrame'>\n",
      "RangeIndex: 586 entries, 0 to 585\n",
      "Data columns (total 24 columns):\n",
      "ID                    586 non-null object\n",
      "number                586 non-null int64\n",
      "country_name          586 non-null object\n",
      "call_connect_time     586 non-null object\n",
      "call_end_time         586 non-null object\n",
      "PDD                   586 non-null int64\n",
      "test_counter          586 non-null int64\n",
      "PESQ_score            586 non-null float64\n",
      "MOS_Ie                586 non-null float64\n",
      "PESQ_raw              586 non-null float64\n",
      "DC_mean_ref           586 non-null float64\n",
      "ASL_ref               586 non-null float64\n",
      "NOISE_mean            586 non-null float64\n",
      "RMS_ref               586 non-null float64\n",
      "DC_mean_deg           586 non-null float64\n",
      "ASL_deg               586 non-null float64\n",
      "RMS_deg               586 non-null float64\n",
      "ASL_GAIN_refvdeg      586 non-null float64\n",
      "NOISE_GAIN_refvdeg    586 non-null float64\n",
      "DELAY_mean            586 non-null float64\n",
      "DELAY_min             586 non-null float64\n",
      "DELAY_max             586 non-null float64\n",
      "DELAY_stddev          586 non-null float64\n",
      "PESQ_label            586 non-null int64\n",
      "dtypes: float64(16), int64(4), object(4)\n",
      "memory usage: 110.0+ KB\n"
     ]
    }
   ],
   "source": [
    "data.info()"
   ]
  },
  {
   "cell_type": "markdown",
   "metadata": {},
   "source": [
    "# Frqueancy of country wise Call"
   ]
  },
  {
   "cell_type": "code",
   "execution_count": 7,
   "metadata": {
    "collapsed": false
   },
   "outputs": [
    {
     "data": {
      "text/html": [
       "<div>\n",
       "<table border=\"1\" class=\"dataframe\">\n",
       "  <thead>\n",
       "    <tr style=\"text-align: right;\">\n",
       "      <th></th>\n",
       "      <th>Country name</th>\n",
       "      <th>Call Counts</th>\n",
       "    </tr>\n",
       "  </thead>\n",
       "  <tbody>\n",
       "    <tr>\n",
       "      <th>0</th>\n",
       "      <td>Germany</td>\n",
       "      <td>389</td>\n",
       "    </tr>\n",
       "    <tr>\n",
       "      <th>1</th>\n",
       "      <td>France</td>\n",
       "      <td>51</td>\n",
       "    </tr>\n",
       "    <tr>\n",
       "      <th>2</th>\n",
       "      <td>Sweden</td>\n",
       "      <td>51</td>\n",
       "    </tr>\n",
       "    <tr>\n",
       "      <th>3</th>\n",
       "      <td>Ireland</td>\n",
       "      <td>50</td>\n",
       "    </tr>\n",
       "    <tr>\n",
       "      <th>4</th>\n",
       "      <td>Switzerland</td>\n",
       "      <td>45</td>\n",
       "    </tr>\n",
       "  </tbody>\n",
       "</table>\n",
       "</div>"
      ],
      "text/plain": [
       "  Country name  Call Counts\n",
       "0      Germany          389\n",
       "1       France           51\n",
       "2       Sweden           51\n",
       "3      Ireland           50\n",
       "4  Switzerland           45"
      ]
     },
     "execution_count": 7,
     "metadata": {},
     "output_type": "execute_result"
    }
   ],
   "source": [
    "from IPython.display import display, HTML\n",
    "x = data['country_name'].value_counts(dropna=True, sort=True)\n",
    "df_value_counts = pd.DataFrame(x)\n",
    "df_value_counts = df_value_counts.reset_index()\n",
    "df_value_counts.columns = ['Country name', 'Call Counts'] # change column names\n",
    "df_value_counts"
   ]
  },
  {
   "cell_type": "markdown",
   "metadata": {},
   "source": [
    "Plot data with Histogram."
   ]
  },
  {
   "cell_type": "code",
   "execution_count": 8,
   "metadata": {
    "collapsed": false
   },
   "outputs": [
    {
     "data": {
      "text/plain": [
       "<matplotlib.text.Text at 0xa2fff127f0>"
      ]
     },
     "execution_count": 8,
     "metadata": {},
     "output_type": "execute_result"
    },
    {
     "data": {
      "image/png": "[encoded data removed]",
      "text/plain": [
       "<matplotlib.figure.Figure at 0xa2ffeb9780>"
      ]
     },
     "metadata": {},
     "output_type": "display_data"
    }
   ],
   "source": [
    "x.sort_values().plot(kind='barh')\n",
    "# Add title and axis names\n",
    "plt.title('Frequency of call by countries')\n",
    "plt.xlabel('Call Counts')\n",
    "plt.ylabel('Countries')\n"
   ]
  },
  {
   "cell_type": "markdown",
   "metadata": {},
   "source": [
    "Let's understand PESQ variable and its distribution. "
   ]
  },
  {
   "cell_type": "code",
   "execution_count": 9,
   "metadata": {
    "collapsed": false
   },
   "outputs": [
    {
     "name": "stdout",
     "output_type": "stream",
     "text": [
      "***PESQ_score distributions***\n",
      "Total number of PESQ data: 586\n",
      "PESQ with rating 3.5 and above: 580\n",
      "PESQ with rating less than 2.4: 0\n",
      "PESQ with rating 2.4 and 3.4: 5\n",
      "Percentage of PESQ with quality 3.5 and above: 98.98%\n",
      "\n",
      "\n",
      "***Table of data descriptions***\n"
     ]
    },
    {
     "data": {
      "text/html": [
       "<div>\n",
       "<table border=\"1\" class=\"dataframe\">\n",
       "  <thead>\n",
       "    <tr style=\"text-align: right;\">\n",
       "      <th></th>\n",
       "      <th>number</th>\n",
       "      <th>PDD</th>\n",
       "      <th>test_counter</th>\n",
       "      <th>PESQ_score</th>\n",
       "      <th>MOS_Ie</th>\n",
       "      <th>PESQ_raw</th>\n",
       "      <th>DC_mean_ref</th>\n",
       "      <th>ASL_ref</th>\n",
       "      <th>NOISE_mean</th>\n",
       "      <th>RMS_ref</th>\n",
       "      <th>DC_mean_deg</th>\n",
       "      <th>ASL_deg</th>\n",
       "      <th>RMS_deg</th>\n",
       "      <th>ASL_GAIN_refvdeg</th>\n",
       "      <th>NOISE_GAIN_refvdeg</th>\n",
       "      <th>DELAY_mean</th>\n",
       "      <th>DELAY_min</th>\n",
       "      <th>DELAY_max</th>\n",
       "      <th>DELAY_stddev</th>\n",
       "      <th>PESQ_label</th>\n",
       "    </tr>\n",
       "  </thead>\n",
       "  <tbody>\n",
       "    <tr>\n",
       "      <th>count</th>\n",
       "      <td>5.860000e+02</td>\n",
       "      <td>586.000000</td>\n",
       "      <td>586.000000</td>\n",
       "      <td>586.000000</td>\n",
       "      <td>586.000000</td>\n",
       "      <td>586.000000</td>\n",
       "      <td>5.860000e+02</td>\n",
       "      <td>586.000000</td>\n",
       "      <td>586.000000</td>\n",
       "      <td>5.860000e+02</td>\n",
       "      <td>586.000000</td>\n",
       "      <td>586.000000</td>\n",
       "      <td>586.000000</td>\n",
       "      <td>586.000000</td>\n",
       "      <td>586.000000</td>\n",
       "      <td>586.000000</td>\n",
       "      <td>586.000000</td>\n",
       "      <td>586.000000</td>\n",
       "      <td>586.000000</td>\n",
       "      <td>586.000000</td>\n",
       "    </tr>\n",
       "    <tr>\n",
       "      <th>mean</th>\n",
       "      <td>5.430853e+09</td>\n",
       "      <td>7.334471</td>\n",
       "      <td>1.008532</td>\n",
       "      <td>4.183959</td>\n",
       "      <td>0.754403</td>\n",
       "      <td>4.191894</td>\n",
       "      <td>8.000000e-02</td>\n",
       "      <td>-24.459898</td>\n",
       "      <td>-66.206177</td>\n",
       "      <td>-2.547000e+01</td>\n",
       "      <td>-0.391570</td>\n",
       "      <td>-61.445529</td>\n",
       "      <td>-21.810683</td>\n",
       "      <td>3.662253</td>\n",
       "      <td>4.191860</td>\n",
       "      <td>0.000956</td>\n",
       "      <td>-0.001860</td>\n",
       "      <td>0.004522</td>\n",
       "      <td>0.001945</td>\n",
       "      <td>1.015358</td>\n",
       "    </tr>\n",
       "    <tr>\n",
       "      <th>std</th>\n",
       "      <td>3.627528e+09</td>\n",
       "      <td>8.870237</td>\n",
       "      <td>0.092055</td>\n",
       "      <td>0.245268</td>\n",
       "      <td>5.129477</td>\n",
       "      <td>0.222826</td>\n",
       "      <td>1.097282e-15</td>\n",
       "      <td>0.001429</td>\n",
       "      <td>0.192203</td>\n",
       "      <td>2.489024e-13</td>\n",
       "      <td>1.188983</td>\n",
       "      <td>4.354273</td>\n",
       "      <td>2.236624</td>\n",
       "      <td>2.238887</td>\n",
       "      <td>2.204615</td>\n",
       "      <td>0.037569</td>\n",
       "      <td>0.038133</td>\n",
       "      <td>0.039047</td>\n",
       "      <td>0.007531</td>\n",
       "      <td>0.169775</td>\n",
       "    </tr>\n",
       "    <tr>\n",
       "      <th>min</th>\n",
       "      <td>1.533123e+07</td>\n",
       "      <td>2.000000</td>\n",
       "      <td>1.000000</td>\n",
       "      <td>2.620000</td>\n",
       "      <td>0.000000</td>\n",
       "      <td>2.620000</td>\n",
       "      <td>8.000000e-02</td>\n",
       "      <td>-24.480000</td>\n",
       "      <td>-66.520000</td>\n",
       "      <td>-2.547000e+01</td>\n",
       "      <td>-1.070000</td>\n",
       "      <td>-66.580000</td>\n",
       "      <td>-25.880000</td>\n",
       "      <td>-0.420000</td>\n",
       "      <td>-0.220000</td>\n",
       "      <td>-0.150000</td>\n",
       "      <td>-0.190000</td>\n",
       "      <td>-0.110000</td>\n",
       "      <td>0.000000</td>\n",
       "      <td>1.000000</td>\n",
       "    </tr>\n",
       "    <tr>\n",
       "      <th>25%</th>\n",
       "      <td>8.055412e+08</td>\n",
       "      <td>4.000000</td>\n",
       "      <td>1.000000</td>\n",
       "      <td>4.240000</td>\n",
       "      <td>0.000000</td>\n",
       "      <td>4.260000</td>\n",
       "      <td>8.000000e-02</td>\n",
       "      <td>-24.460000</td>\n",
       "      <td>-66.400000</td>\n",
       "      <td>-2.547000e+01</td>\n",
       "      <td>-1.060000</td>\n",
       "      <td>-61.480000</td>\n",
       "      <td>-20.830000</td>\n",
       "      <td>4.650000</td>\n",
       "      <td>4.620000</td>\n",
       "      <td>-0.010000</td>\n",
       "      <td>-0.010000</td>\n",
       "      <td>0.000000</td>\n",
       "      <td>0.000000</td>\n",
       "      <td>1.000000</td>\n",
       "    </tr>\n",
       "    <tr>\n",
       "      <th>50%</th>\n",
       "      <td>8.007231e+09</td>\n",
       "      <td>4.000000</td>\n",
       "      <td>1.000000</td>\n",
       "      <td>4.270000</td>\n",
       "      <td>0.000000</td>\n",
       "      <td>4.270000</td>\n",
       "      <td>8.000000e-02</td>\n",
       "      <td>-24.460000</td>\n",
       "      <td>-66.100000</td>\n",
       "      <td>-2.547000e+01</td>\n",
       "      <td>-1.050000</td>\n",
       "      <td>-60.830000</td>\n",
       "      <td>-20.510000</td>\n",
       "      <td>4.970000</td>\n",
       "      <td>5.280000</td>\n",
       "      <td>0.010000</td>\n",
       "      <td>0.010000</td>\n",
       "      <td>0.010000</td>\n",
       "      <td>0.000000</td>\n",
       "      <td>1.000000</td>\n",
       "    </tr>\n",
       "    <tr>\n",
       "      <th>75%</th>\n",
       "      <td>8.007231e+09</td>\n",
       "      <td>5.000000</td>\n",
       "      <td>1.000000</td>\n",
       "      <td>4.280000</td>\n",
       "      <td>0.000000</td>\n",
       "      <td>4.280000</td>\n",
       "      <td>8.000000e-02</td>\n",
       "      <td>-24.460000</td>\n",
       "      <td>-66.090000</td>\n",
       "      <td>-2.547000e+01</td>\n",
       "      <td>0.160000</td>\n",
       "      <td>-60.760000</td>\n",
       "      <td>-20.500000</td>\n",
       "      <td>4.970000</td>\n",
       "      <td>5.650000</td>\n",
       "      <td>0.020000</td>\n",
       "      <td>0.020000</td>\n",
       "      <td>0.030000</td>\n",
       "      <td>0.000000</td>\n",
       "      <td>1.000000</td>\n",
       "    </tr>\n",
       "    <tr>\n",
       "      <th>max</th>\n",
       "      <td>8.007231e+09</td>\n",
       "      <td>43.000000</td>\n",
       "      <td>2.000000</td>\n",
       "      <td>4.380000</td>\n",
       "      <td>54.650000</td>\n",
       "      <td>4.380000</td>\n",
       "      <td>8.000000e-02</td>\n",
       "      <td>-24.450000</td>\n",
       "      <td>-65.910000</td>\n",
       "      <td>-2.547000e+01</td>\n",
       "      <td>6.450000</td>\n",
       "      <td>-31.430000</td>\n",
       "      <td>-20.460000</td>\n",
       "      <td>5.020000</td>\n",
       "      <td>8.870000</td>\n",
       "      <td>0.100000</td>\n",
       "      <td>0.050000</td>\n",
       "      <td>0.170000</td>\n",
       "      <td>0.080000</td>\n",
       "      <td>3.000000</td>\n",
       "    </tr>\n",
       "  </tbody>\n",
       "</table>\n",
       "</div>"
      ],
      "text/plain": [
       "             number         PDD  test_counter  PESQ_score      MOS_Ie  \\\n",
       "count  5.860000e+02  586.000000    586.000000  586.000000  586.000000   \n",
       "mean   5.430853e+09    7.334471      1.008532    4.183959    0.754403   \n",
       "std    3.627528e+09    8.870237      0.092055    0.245268    5.129477   \n",
       "min    1.533123e+07    2.000000      1.000000    2.620000    0.000000   \n",
       "25%    8.055412e+08    4.000000      1.000000    4.240000    0.000000   \n",
       "50%    8.007231e+09    4.000000      1.000000    4.270000    0.000000   \n",
       "75%    8.007231e+09    5.000000      1.000000    4.280000    0.000000   \n",
       "max    8.007231e+09   43.000000      2.000000    4.380000   54.650000   \n",
       "\n",
       "         PESQ_raw   DC_mean_ref     ASL_ref  NOISE_mean       RMS_ref  \\\n",
       "count  586.000000  5.860000e+02  586.000000  586.000000  5.860000e+02   \n",
       "mean     4.191894  8.000000e-02  -24.459898  -66.206177 -2.547000e+01   \n",
       "std      0.222826  1.097282e-15    0.001429    0.192203  2.489024e-13   \n",
       "min      2.620000  8.000000e-02  -24.480000  -66.520000 -2.547000e+01   \n",
       "25%      4.260000  8.000000e-02  -24.460000  -66.400000 -2.547000e+01   \n",
       "50%      4.270000  8.000000e-02  -24.460000  -66.100000 -2.547000e+01   \n",
       "75%      4.280000  8.000000e-02  -24.460000  -66.090000 -2.547000e+01   \n",
       "max      4.380000  8.000000e-02  -24.450000  -65.910000 -2.547000e+01   \n",
       "\n",
       "       DC_mean_deg     ASL_deg     RMS_deg  ASL_GAIN_refvdeg  \\\n",
       "count   586.000000  586.000000  586.000000        586.000000   \n",
       "mean     -0.391570  -61.445529  -21.810683          3.662253   \n",
       "std       1.188983    4.354273    2.236624          2.238887   \n",
       "min      -1.070000  -66.580000  -25.880000         -0.420000   \n",
       "25%      -1.060000  -61.480000  -20.830000          4.650000   \n",
       "50%      -1.050000  -60.830000  -20.510000          4.970000   \n",
       "75%       0.160000  -60.760000  -20.500000          4.970000   \n",
       "max       6.450000  -31.430000  -20.460000          5.020000   \n",
       "\n",
       "       NOISE_GAIN_refvdeg  DELAY_mean   DELAY_min   DELAY_max  DELAY_stddev  \\\n",
       "count          586.000000  586.000000  586.000000  586.000000    586.000000   \n",
       "mean             4.191860    0.000956   -0.001860    0.004522      0.001945   \n",
       "std              2.204615    0.037569    0.038133    0.039047      0.007531   \n",
       "min             -0.220000   -0.150000   -0.190000   -0.110000      0.000000   \n",
       "25%              4.620000   -0.010000   -0.010000    0.000000      0.000000   \n",
       "50%              5.280000    0.010000    0.010000    0.010000      0.000000   \n",
       "75%              5.650000    0.020000    0.020000    0.030000      0.000000   \n",
       "max              8.870000    0.100000    0.050000    0.170000      0.080000   \n",
       "\n",
       "       PESQ_label  \n",
       "count  586.000000  \n",
       "mean     1.015358  \n",
       "std      0.169775  \n",
       "min      1.000000  \n",
       "25%      1.000000  \n",
       "50%      1.000000  \n",
       "75%      1.000000  \n",
       "max      3.000000  "
      ]
     },
     "execution_count": 9,
     "metadata": {},
     "output_type": "execute_result"
    }
   ],
   "source": [
    "n_PESQ = data.shape[0]\n",
    "\n",
    "# Number of PESQ with quality rating above 6\n",
    "quality_above_3_5 = data.loc[(data['PESQ_score'] > 3.5 )]\n",
    "n_above_3_5 = quality_above_3_5.shape[0]\n",
    "\n",
    "# Number of PESQ with quality rating below 5\n",
    "quality_below_2_4 = data.loc[(data['PESQ_score'] < 2.4)]\n",
    "n_below_2_4 = quality_below_2_4.shape[0]\n",
    "\n",
    "# Number of PESQ with quality rating between 5 to 6\n",
    "quality_between_2_4_3_4 = data.loc[(data['PESQ_score'] >= 2.4) & (data['PESQ_score'] <= 3.4)]\n",
    "n_between_2_4_3_4 = quality_between_2_4_3_4.shape[0]\n",
    "\n",
    "# Percentage of PESQ with quality rating above 6\n",
    "greater_percent = n_above_3_5*100/n_PESQ\n",
    "\n",
    "print (\"***PESQ_score distributions***\")\n",
    "# Print the results\n",
    "print(\"Total number of PESQ data: {}\".format(n_PESQ))\n",
    "print(\"PESQ with rating 3.5 and above: {}\".format(n_above_3_5))\n",
    "print(\"PESQ with rating less than 2.4: {}\".format(n_below_2_4))\n",
    "print(\"PESQ with rating 2.4 and 3.4: {}\".format(n_between_2_4_3_4))\n",
    "print(\"Percentage of PESQ with quality 3.5 and above: {:.2f}%\".format(greater_percent))\n",
    "print (\"\\n\")\n",
    "print(\"***Table of data descriptions***\")\n",
    "# Some more additional data analysis\n",
    "data.describe()"
   ]
  },
  {
   "cell_type": "code",
   "execution_count": 10,
   "metadata": {
    "collapsed": false
   },
   "outputs": [
    {
     "name": "stdout",
     "output_type": "stream",
     "text": [
      "column name\t\tMissing values (%)\n"
     ]
    },
    {
     "data": {
      "text/plain": [
       "ID                     0.000000\n",
       "number                 0.000000\n",
       "country_name           0.000000\n",
       "call_connect_time      0.000000\n",
       "call_end_time          0.000000\n",
       "PDD                    0.000000\n",
       "test_counter           0.000000\n",
       "PESQ_score             0.000000\n",
       "MOS_Ie                96.416382\n",
       "PESQ_raw               0.000000\n",
       "DC_mean_ref            0.000000\n",
       "ASL_ref                0.000000\n",
       "NOISE_mean             0.000000\n",
       "RMS_ref                0.000000\n",
       "DC_mean_deg            0.000000\n",
       "ASL_deg                0.000000\n",
       "RMS_deg                0.000000\n",
       "ASL_GAIN_refvdeg       0.000000\n",
       "NOISE_GAIN_refvdeg     0.000000\n",
       "DELAY_mean            11.604096\n",
       "DELAY_min             12.116041\n",
       "DELAY_max             10.580205\n",
       "DELAY_stddev          89.931741\n",
       "PESQ_label             0.000000\n",
       "dtype: float64"
      ]
     },
     "execution_count": 10,
     "metadata": {},
     "output_type": "execute_result"
    }
   ],
   "source": [
    "# Percentage of column containing 0 valuep\n",
    "print(\"column name\\t\\tMissing values (%)\")\n",
    "data.isin([0]).sum()/586 * 100\n"
   ]
  },
  {
   "cell_type": "markdown",
   "metadata": {
    "collapsed": false
   },
   "source": [
    "### Let create correlation matrix (Heat map)"
   ]
  },
  {
   "cell_type": "markdown",
   "metadata": {},
   "source": [
    "Heat map uses to understand the linear relationship between two or more variables."
   ]
  },
  {
   "cell_type": "code",
   "execution_count": 11,
   "metadata": {
    "collapsed": false
   },
   "outputs": [
    {
     "data": {
      "text/html": [
       "<div>\n",
       "<table border=\"1\" class=\"dataframe\">\n",
       "  <thead>\n",
       "    <tr style=\"text-align: right;\">\n",
       "      <th></th>\n",
       "      <th>PDD</th>\n",
       "      <th>PESQ_raw</th>\n",
       "      <th>DC_mean_ref</th>\n",
       "      <th>ASL_ref</th>\n",
       "      <th>NOISE_mean</th>\n",
       "      <th>RMS_ref</th>\n",
       "      <th>DC_mean_deg</th>\n",
       "      <th>ASL_deg</th>\n",
       "      <th>RMS_deg</th>\n",
       "      <th>ASL_GAIN_refvdeg</th>\n",
       "      <th>NOISE_GAIN_refvdeg</th>\n",
       "      <th>DELAY_mean</th>\n",
       "      <th>DELAY_min</th>\n",
       "      <th>DELAY_max</th>\n",
       "      <th>PESQ_label</th>\n",
       "    </tr>\n",
       "  </thead>\n",
       "  <tbody>\n",
       "    <tr>\n",
       "      <th>0</th>\n",
       "      <td>5</td>\n",
       "      <td>4.26</td>\n",
       "      <td>0.08</td>\n",
       "      <td>-24.46</td>\n",
       "      <td>-66.09</td>\n",
       "      <td>-25.47</td>\n",
       "      <td>-1.06</td>\n",
       "      <td>-60.43</td>\n",
       "      <td>-20.51</td>\n",
       "      <td>4.97</td>\n",
       "      <td>5.66</td>\n",
       "      <td>0.03</td>\n",
       "      <td>0.03</td>\n",
       "      <td>0.03</td>\n",
       "      <td>1</td>\n",
       "    </tr>\n",
       "    <tr>\n",
       "      <th>1</th>\n",
       "      <td>4</td>\n",
       "      <td>4.20</td>\n",
       "      <td>0.08</td>\n",
       "      <td>-24.46</td>\n",
       "      <td>-66.36</td>\n",
       "      <td>-25.47</td>\n",
       "      <td>-1.05</td>\n",
       "      <td>-60.63</td>\n",
       "      <td>-20.50</td>\n",
       "      <td>4.97</td>\n",
       "      <td>5.73</td>\n",
       "      <td>0.01</td>\n",
       "      <td>0.01</td>\n",
       "      <td>0.01</td>\n",
       "      <td>1</td>\n",
       "    </tr>\n",
       "  </tbody>\n",
       "</table>\n",
       "</div>"
      ],
      "text/plain": [
       "   PDD  PESQ_raw  DC_mean_ref  ASL_ref  NOISE_mean  RMS_ref  DC_mean_deg  \\\n",
       "0    5      4.26         0.08   -24.46      -66.09   -25.47        -1.06   \n",
       "1    4      4.20         0.08   -24.46      -66.36   -25.47        -1.05   \n",
       "\n",
       "   ASL_deg  RMS_deg  ASL_GAIN_refvdeg  NOISE_GAIN_refvdeg  DELAY_mean  \\\n",
       "0   -60.43   -20.51              4.97                5.66        0.03   \n",
       "1   -60.63   -20.50              4.97                5.73        0.01   \n",
       "\n",
       "   DELAY_min  DELAY_max  PESQ_label  \n",
       "0       0.03       0.03           1  \n",
       "1       0.01       0.01           1  "
      ]
     },
     "execution_count": 11,
     "metadata": {},
     "output_type": "execute_result"
    }
   ],
   "source": [
    "# Remove VAR that is not useful \n",
    "data1 = data.drop(['DELAY_stddev','MOS_Ie','ID', 'number', 'country_name', 'call_connect_time','call_end_time', 'test_counter','DELAY_stddev','PESQ_score'], axis = 1)\n",
    "data1.head(2)"
   ]
  },
  {
   "cell_type": "code",
   "execution_count": 12,
   "metadata": {
    "collapsed": false
   },
   "outputs": [
    {
     "data": {
      "image/png": "[encoded data removed]",
      "text/plain": [
       "<matplotlib.figure.Figure at 0xa2fffde550>"
      ]
     },
     "metadata": {},
     "output_type": "display_data"
    }
   ],
   "source": [
    "# Lets create heat map\n",
    "correlation = data1.corr()\n",
    "# display(correlation)\n",
    "plt.figure(figsize=(14, 12))\n",
    "heatmap = sns.heatmap(correlation, annot=True, linewidths=0, vmin=-1, cmap=\"RdBu_r\")"
   ]
  },
  {
   "cell_type": "markdown",
   "metadata": {
    "collapsed": true
   },
   "source": [
    "The squares with positive values show direct co-relationships between features. The higher the values, the stronger these relationships are — they’ll be more reddish. That means, if one feature increases, the other one also tends to increase, and vice-versa.\n",
    "\n",
    "The squares that have negative values show an inverse co-relationship. The more negative these values get, the more inversely proportional they are, and they’ll be more blue. This means that if the value of one feature is higher, the value of the other one gets lower.\n",
    "\n",
    "Finally, squares close to zero indicate almost no co-dependency between those sets of features. from this matrix we can see  positive co-relationships of following variables\n",
    "***NOISE_GAIN_*** and ***refvdeg\tRMS_deg***\t            *(98)*,\n",
    "***NOISE_GAIN_*** and ***refvdeg\tASL_GAIN_refvdeg***\t*(98)*\n",
    "***DELAY_mean*** and\t***ASL_GAIN_refvdeg***\t        *(64)*\n",
    "***DELAY_mean*** and\t***RMS_deg***\t                    *(65)*\n",
    "***DELAY_mean*** and\t***NOISE_GAIN_refvdeg***\t        *(68)*\n",
    "***DELAY_min*** and\t***ASL_GAIN_refvdeg***\t        *(69)*\n",
    "***DELAY_min*** and\t***RMS_deg\t***                    *(69)*\n",
    "***DELAY_min*** and\t***NOISE_GAIN_refvdeg***\t        *(69)*.\n",
    "\n"
   ]
  },
  {
   "cell_type": "markdown",
   "metadata": {},
   "source": [
    "# Calculate R factor"
   ]
  },
  {
   "cell_type": "markdown",
   "metadata": {},
   "source": [
    "***R-factor*** : R-factor is a number, or score, that is used to quantitatively express the subjective quality of speech in communications systems, especially digital networks that carry voice over IP (VoIP) traffic, or for which VoIP service is under consideration. The R-factor score, which is used in conjunction with voice testing processes, can range from 1 (worst) to 100 (best), and is based on the percentage of users who are satisfied with the quality of a test voice signal after it has passed through a network from a source (transmitter) to a destination (receiver).R-factor is a number, or score, that is used to quantitatively express the subjective quality of speech in communications systems, especially digital networks that carry voice over IP (VoIP) traffic, or for which VoIP service is under consideration. The R-factor score, which is used in conjunction with voice testing processes, can range from 1 (worst) to 100 (best), and is based on the percentage of users who are satisfied with the quality of a test voice signal after it has passed through a network from a source (transmitter) to a destination (receiver)."
   ]
  },
  {
   "cell_type": "markdown",
   "metadata": {},
   "source": [
    "First, we calculate PESQ to MOS value. The equation for calculating PESQ to MOS is:"
   ]
  },
  {
   "cell_type": "code",
   "execution_count": 13,
   "metadata": {
    "collapsed": false
   },
   "outputs": [
    {
     "data": {
      "image/jpeg": "[encoded data removed]",
      "text/plain": [
       "<IPython.core.display.Image object>"
      ]
     },
     "metadata": {},
     "output_type": "display_data"
    }
   ],
   "source": [
    "display(Image(\"F:\\Spearline\\img1.jpg\"))"
   ]
  },
  {
   "cell_type": "code",
   "execution_count": 14,
   "metadata": {
    "collapsed": true
   },
   "outputs": [],
   "source": [
    "# Funcation for calculate PESQ to MOS value\n",
    "def pesq2mos(pesq):\n",
    "    \"\"\" Return MOS LQO value (within 1..4.5) on PESQ value (within -0.5..4.5).\n",
    "    Mapping function given from P.862.1 (11/2003) \"\"\"\n",
    "    return 0.999 + (4.999-0.999) / (1+exp(-1.4945*pesq+4.6607))"
   ]
  },
  {
   "cell_type": "markdown",
   "metadata": {},
   "source": [
    "Now, we calculate MOS to R-factor. The equation for calculating r factor "
   ]
  },
  {
   "cell_type": "code",
   "execution_count": 15,
   "metadata": {
    "collapsed": false
   },
   "outputs": [
    {
     "data": {
      "image/jpeg": "[encoded data removed]",
      "text/plain": [
       "<IPython.core.display.Image object>"
      ]
     },
     "metadata": {},
     "output_type": "display_data"
    }
   ],
   "source": [
    "display(Image(\"F:\\Spearline\\img2.jpg\"))"
   ]
  },
  {
   "cell_type": "code",
   "execution_count": 16,
   "metadata": {
    "collapsed": true
   },
   "outputs": [],
   "source": [
    "# MOS to R factor\n",
    "def mos2r(mos):\n",
    "    \"\"\" With given MOS LQO return R-factor  (1 < MOS < 4.5) \"\"\"\n",
    "    D = -903522 + 1113960 * mos - 202500 * mos * mos\n",
    "    if D < 0:\n",
    "        D = 0\n",
    "    h = 1/3 * atan2(15*sqrt(D), 18556-6750*mos)\n",
    "    R = 20/3 * (8 - sqrt(226) * cos(h+pi/3))\n",
    "    return R > 100 and 100.0 or R"
   ]
  },
  {
   "cell_type": "code",
   "execution_count": 17,
   "metadata": {
    "collapsed": false
   },
   "outputs": [],
   "source": [
    "# Loop over pesq2mos funcation and store value in MOS_LQO column\n",
    "data[\"MOS_LQO\"] = \"\"\n",
    "for i in range(0,len(data)):\n",
    "    data[\"MOS_LQO\"][i] = (pesq2mos(data[\"PESQ_score\"][i]))"
   ]
  },
  {
   "cell_type": "code",
   "execution_count": 18,
   "metadata": {
    "collapsed": false
   },
   "outputs": [],
   "source": [
    "# Loop over mos2r funcation and store value in R_factor column\n",
    "data[\"R_factor\"] = \"\"\n",
    "for i in range(0,len(data)):\n",
    "              data['R_factor'][i] = (mos2r(data[\"MOS_LQO\"][i]))"
   ]
  },
  {
   "cell_type": "markdown",
   "metadata": {},
   "source": [
    "Now, Using the R factor let's convert a value in labels. Bifurcation is given below. "
   ]
  },
  {
   "cell_type": "code",
   "execution_count": 19,
   "metadata": {
    "collapsed": false
   },
   "outputs": [
    {
     "data": {
      "image/jpeg": "[encoded data removed]",
      "text/plain": [
       "<IPython.core.display.Image object>"
      ]
     },
     "metadata": {},
     "output_type": "display_data"
    }
   ],
   "source": [
    "display(Image(\"F:\\Spearline\\img3.jpg\"))"
   ]
  },
  {
   "cell_type": "code",
   "execution_count": 20,
   "metadata": {
    "collapsed": true
   },
   "outputs": [],
   "source": [
    "# Create a dictionary and range for labels.\n",
    "bins = [40, 50, 70, 80, 90, 100]\n",
    "labels = ['Bad', 'Poor', 'Fair', 'Good', 'Excellent']"
   ]
  },
  {
   "cell_type": "code",
   "execution_count": 21,
   "metadata": {
    "collapsed": false
   },
   "outputs": [
    {
     "data": {
      "text/html": [
       "<div>\n",
       "<table border=\"1\" class=\"dataframe\">\n",
       "  <thead>\n",
       "    <tr style=\"text-align: right;\">\n",
       "      <th></th>\n",
       "      <th>ID</th>\n",
       "      <th>number</th>\n",
       "      <th>country_name</th>\n",
       "      <th>call_connect_time</th>\n",
       "      <th>call_end_time</th>\n",
       "      <th>PDD</th>\n",
       "      <th>test_counter</th>\n",
       "      <th>PESQ_score</th>\n",
       "      <th>MOS_Ie</th>\n",
       "      <th>PESQ_raw</th>\n",
       "      <th>...</th>\n",
       "      <th>ASL_GAIN_refvdeg</th>\n",
       "      <th>NOISE_GAIN_refvdeg</th>\n",
       "      <th>DELAY_mean</th>\n",
       "      <th>DELAY_min</th>\n",
       "      <th>DELAY_max</th>\n",
       "      <th>DELAY_stddev</th>\n",
       "      <th>PESQ_label</th>\n",
       "      <th>MOS_LQO</th>\n",
       "      <th>R_factor</th>\n",
       "      <th>bins</th>\n",
       "    </tr>\n",
       "  </thead>\n",
       "  <tbody>\n",
       "    <tr>\n",
       "      <th>0</th>\n",
       "      <td>2603510_1_2</td>\n",
       "      <td>8007231234</td>\n",
       "      <td>Germany</td>\n",
       "      <td>04-04-2017 07:11</td>\n",
       "      <td>04-04-2017 07:12</td>\n",
       "      <td>5</td>\n",
       "      <td>1</td>\n",
       "      <td>4.26</td>\n",
       "      <td>0.0</td>\n",
       "      <td>4.26</td>\n",
       "      <td>...</td>\n",
       "      <td>4.97</td>\n",
       "      <td>5.66</td>\n",
       "      <td>0.03</td>\n",
       "      <td>0.03</td>\n",
       "      <td>0.03</td>\n",
       "      <td>0.0</td>\n",
       "      <td>1</td>\n",
       "      <td>4.3842</td>\n",
       "      <td>91.9786</td>\n",
       "      <td>Excellent</td>\n",
       "    </tr>\n",
       "    <tr>\n",
       "      <th>1</th>\n",
       "      <td>2603906_1_2</td>\n",
       "      <td>8007231234</td>\n",
       "      <td>Germany</td>\n",
       "      <td>04-04-2017 07:26</td>\n",
       "      <td>04-04-2017 07:27</td>\n",
       "      <td>4</td>\n",
       "      <td>1</td>\n",
       "      <td>4.20</td>\n",
       "      <td>0.0</td>\n",
       "      <td>4.20</td>\n",
       "      <td>...</td>\n",
       "      <td>4.97</td>\n",
       "      <td>5.73</td>\n",
       "      <td>0.01</td>\n",
       "      <td>0.01</td>\n",
       "      <td>0.01</td>\n",
       "      <td>0.0</td>\n",
       "      <td>1</td>\n",
       "      <td>4.33608</td>\n",
       "      <td>89.8927</td>\n",
       "      <td>Good</td>\n",
       "    </tr>\n",
       "  </tbody>\n",
       "</table>\n",
       "<p>2 rows × 27 columns</p>\n",
       "</div>"
      ],
      "text/plain": [
       "            ID      number country_name call_connect_time     call_end_time  \\\n",
       "0  2603510_1_2  8007231234      Germany  04-04-2017 07:11  04-04-2017 07:12   \n",
       "1  2603906_1_2  8007231234      Germany  04-04-2017 07:26  04-04-2017 07:27   \n",
       "\n",
       "   PDD  test_counter  PESQ_score  MOS_Ie  PESQ_raw    ...      \\\n",
       "0    5             1        4.26     0.0      4.26    ...       \n",
       "1    4             1        4.20     0.0      4.20    ...       \n",
       "\n",
       "   ASL_GAIN_refvdeg  NOISE_GAIN_refvdeg  DELAY_mean  DELAY_min  DELAY_max  \\\n",
       "0              4.97                5.66        0.03       0.03       0.03   \n",
       "1              4.97                5.73        0.01       0.01       0.01   \n",
       "\n",
       "   DELAY_stddev  PESQ_label  MOS_LQO  R_factor       bins  \n",
       "0           0.0           1   4.3842   91.9786  Excellent  \n",
       "1           0.0           1  4.33608   89.8927       Good  \n",
       "\n",
       "[2 rows x 27 columns]"
      ]
     },
     "execution_count": 21,
     "metadata": {},
     "output_type": "execute_result"
    }
   ],
   "source": [
    "# Assign labels to the range that we just created and store it to the \"bins\" variable.\n",
    "data['bins'] = pd.cut(data['R_factor'], bins=bins, labels=labels, include_lowest=True)\n",
    "data.head(2)"
   ]
  },
  {
   "cell_type": "markdown",
   "metadata": {},
   "source": [
    "Create a bar chart for R Factor labels that we just assign."
   ]
  },
  {
   "cell_type": "code",
   "execution_count": 22,
   "metadata": {
    "collapsed": false
   },
   "outputs": [
    {
     "data": {
      "image/png": "[encoded data removed]",
      "text/plain": [
       "<matplotlib.figure.Figure at 0xa2850959b0>"
      ]
     },
     "metadata": {},
     "output_type": "display_data"
    }
   ],
   "source": [
    "ax = data['bins'].value_counts().plot(kind='barh', figsize=(10,7),\n",
    "                                        color=\"coral\", fontsize=13);\n",
    "\n",
    "ax.set_alpha(0.8)\n",
    "ax.set_title(\"% Services in Data\", fontsize=18)\n",
    "ax.set_xlabel(\"Frequency of labels\", fontsize=18);\n",
    "ax.set_ylabel(\"Labels\", fontsize=18);\n",
    "#ax.set_xticks([0, 40, 50, 70, 80, 90, 100])\n",
    "\n",
    "# create a list to collect the plt.patches data\n",
    "totals = []\n",
    "\n",
    "# find the values and append to list\n",
    "for i in ax.patches:\n",
    "    totals.append(i.get_width())\n",
    "\n",
    "# set individual bar lables using above list\n",
    "total = sum(totals)\n",
    "\n",
    "# set individual bar lables using above list\n",
    "for i in ax.patches:\n",
    "    # get_width pulls left or right; get_y pushes up or down\n",
    "    ax.text(i.get_width()+.3, i.get_y()+.38, \\\n",
    "            str(round((i.get_width()/total)*100, 2))+'%', fontsize=15,\n",
    "color='dimgrey')\n",
    "\n",
    "# invert for largest on top \n",
    "ax.invert_yaxis()"
   ]
  },
  {
   "cell_type": "markdown",
   "metadata": {},
   "source": [
    "From the above chart, we can see most of the r factor is in a range of \"Excellent.\" (80.7%) Followed by \"fair\" (12.62%) and the rest of the other categories. Let's understand it country-wise distributions."
   ]
  },
  {
   "cell_type": "code",
   "execution_count": 23,
   "metadata": {
    "collapsed": true
   },
   "outputs": [],
   "source": [
    "# Create a data frame for every country.\n",
    "ger = (data.loc[data['country_name'] == 'Germany'])\n",
    "ger1 = ger\n",
    "fra = (data.loc[data['country_name'] == 'France'])\n",
    "fra1 = fra\n",
    "swe = (data.loc[data['country_name'] == 'Sweden'])\n",
    "swe1 = swe\n",
    "ire = (data.loc[data['country_name'] == 'Ireland'])\n",
    "ire1 = ire\n",
    "swi = (data.loc[data['country_name'] == 'Switzerland'])\n",
    "swi1 = swi"
   ]
  },
  {
   "cell_type": "code",
   "execution_count": 24,
   "metadata": {
    "collapsed": false,
    "scrolled": false
   },
   "outputs": [
    {
     "data": {
      "text/plain": [
       "<matplotlib.text.Text at 0xa2862d5518>"
      ]
     },
     "execution_count": 24,
     "metadata": {},
     "output_type": "execute_result"
    },
    {
     "data": {
      "image/png": "[encoded data removed]",
      "text/plain": [
       "<matplotlib.figure.Figure at 0xa285737320>"
      ]
     },
     "metadata": {},
     "output_type": "display_data"
    },
    {
     "data": {
      "image/png": "[encoded data removed]",
      "text/plain": [
       "<matplotlib.figure.Figure at 0xa2857377b8>"
      ]
     },
     "metadata": {},
     "output_type": "display_data"
    },
    {
     "data": {
      "image/png": "[encoded data removed]",
      "text/plain": [
       "<matplotlib.figure.Figure at 0xa28531fba8>"
      ]
     },
     "metadata": {},
     "output_type": "display_data"
    },
    {
     "data": {
      "image/png": "[encoded data removed]",
      "text/plain": [
       "<matplotlib.figure.Figure at 0xa286229e48>"
      ]
     },
     "metadata": {},
     "output_type": "display_data"
    },
    {
     "data": {
      "image/png": "[encoded data removed]",
      "text/plain": [
       "<matplotlib.figure.Figure at 0xa2864a5f98>"
      ]
     },
     "metadata": {},
     "output_type": "display_data"
    }
   ],
   "source": [
    "# Create a bar chart for every country.\n",
    "ger = ger.groupby(['country_name','bins'])['bins'].count().unstack(0).plot.bar(title=\"Country-wise calls\", figsize=(10,5))\n",
    "ger.set_xlabel('Quality')\n",
    "ger.set_ylabel('Frequency')\n",
    "fra = fra.groupby(['country_name','bins'])['bins'].count().unstack(0).plot.bar(title=\"Country-wise calls\", figsize=(10,5))\n",
    "fra.set_xlabel('Quality')\n",
    "fra.set_ylabel('Frequency')\n",
    "swe = swe.groupby(['country_name','bins'])['bins'].count().unstack(0).plot.bar(title=\"Country-wise calls\", figsize=(10,5))\n",
    "swe.set_xlabel('Quality')\n",
    "swe.set_ylabel('Frequency')\n",
    "ire = ire.groupby(['country_name','bins'])['bins'].count().unstack(0).plot.bar(title=\"Country-wise calls\", figsize=(10,5))\n",
    "ire.set_xlabel('Quality')\n",
    "ire.set_ylabel('Frequency')\n",
    "swi = swi.groupby(['country_name','bins'])['bins'].count().unstack(0).plot.bar(title=\"Country-wise calls\", figsize=(10,5))\n",
    "swi.set_xlabel('Quality')\n",
    "swi.set_ylabel('Frequency')"
   ]
  },
  {
   "cell_type": "code",
   "execution_count": 25,
   "metadata": {
    "collapsed": false
   },
   "outputs": [
    {
     "name": "stdout",
     "output_type": "stream",
     "text": [
      "Germany\n",
      "Excellent    0.789203\n",
      "Fair         0.151671\n",
      "Good         0.048843\n",
      "Poor         0.005141\n",
      "Bad          0.005141\n",
      "Name: bins, dtype: float64\n",
      "\n",
      "\n",
      "France\n",
      "Excellent    0.843137\n",
      "Good         0.098039\n",
      "Fair         0.039216\n",
      "Poor         0.019608\n",
      "Bad          0.000000\n",
      "Name: bins, dtype: float64\n",
      "\n",
      "\n",
      "Sweden\n",
      "Excellent    0.882353\n",
      "Fair         0.058824\n",
      "Good         0.039216\n",
      "Bad          0.019608\n",
      "Poor         0.000000\n",
      "Name: bins, dtype: float64\n",
      "\n",
      "\n",
      "Ireland\n",
      "Excellent    0.7\n",
      "Fair         0.2\n",
      "Good         0.1\n",
      "Poor         0.0\n",
      "Bad          0.0\n",
      "Name: bins, dtype: float64\n",
      "\n",
      "\n",
      "Switzerland\n",
      "Excellent    0.955556\n",
      "Good         0.044444\n",
      "Fair         0.000000\n",
      "Poor         0.000000\n",
      "Bad          0.000000\n",
      "Name: bins, dtype: float64\n"
     ]
    }
   ],
   "source": [
    "# Print results in percentages\n",
    "print (\"Germany\")\n",
    "print (ger1['bins'].value_counts(normalize=True))\n",
    "print (\"\\n\")\n",
    "print (\"France\")\n",
    "print (fra1['bins'].value_counts(normalize=True))\n",
    "print (\"\\n\")\n",
    "print (\"Sweden\")\n",
    "print(swe1['bins'].value_counts(normalize=True))\n",
    "print (\"\\n\")\n",
    "print (\"Ireland\")\n",
    "print(ire1['bins'].value_counts(normalize=True))\n",
    "print (\"\\n\")\n",
    "print (\"Switzerland\")\n",
    "print(swi1['bins'].value_counts(normalize=True))"
   ]
  },
  {
   "cell_type": "markdown",
   "metadata": {},
   "source": [
    "From the above bar chars and tables, we can understand that all countries are in either \"Excellent\" and \"Good.\""
   ]
  },
  {
   "cell_type": "markdown",
   "metadata": {},
   "source": [
    "## Lets Creat model for predicting PESQ score"
   ]
  },
  {
   "cell_type": "markdown",
   "metadata": {},
   "source": [
    "Frist, We’ll create training and testing subsets for the data:"
   ]
  },
  {
   "cell_type": "code",
   "execution_count": 26,
   "metadata": {
    "collapsed": true
   },
   "outputs": [],
   "source": [
    "# Import train_test_split\n",
    "from sklearn.model_selection import train_test_split"
   ]
  },
  {
   "cell_type": "code",
   "execution_count": 27,
   "metadata": {
    "collapsed": false
   },
   "outputs": [
    {
     "data": {
      "text/html": [
       "<div>\n",
       "<table border=\"1\" class=\"dataframe\">\n",
       "  <thead>\n",
       "    <tr style=\"text-align: right;\">\n",
       "      <th></th>\n",
       "      <th>PDD</th>\n",
       "      <th>PESQ_raw</th>\n",
       "      <th>DC_mean_ref</th>\n",
       "      <th>ASL_ref</th>\n",
       "      <th>NOISE_mean</th>\n",
       "      <th>RMS_ref</th>\n",
       "      <th>DC_mean_deg</th>\n",
       "      <th>ASL_deg</th>\n",
       "      <th>RMS_deg</th>\n",
       "      <th>ASL_GAIN_refvdeg</th>\n",
       "      <th>NOISE_GAIN_refvdeg</th>\n",
       "      <th>DELAY_mean</th>\n",
       "      <th>DELAY_min</th>\n",
       "      <th>DELAY_max</th>\n",
       "      <th>PESQ_label</th>\n",
       "    </tr>\n",
       "  </thead>\n",
       "  <tbody>\n",
       "    <tr>\n",
       "      <th>0</th>\n",
       "      <td>5</td>\n",
       "      <td>4.26</td>\n",
       "      <td>0.08</td>\n",
       "      <td>-24.46</td>\n",
       "      <td>-66.09</td>\n",
       "      <td>-25.47</td>\n",
       "      <td>-1.06</td>\n",
       "      <td>-60.43</td>\n",
       "      <td>-20.51</td>\n",
       "      <td>4.97</td>\n",
       "      <td>5.66</td>\n",
       "      <td>0.03</td>\n",
       "      <td>0.03</td>\n",
       "      <td>0.03</td>\n",
       "      <td>1</td>\n",
       "    </tr>\n",
       "    <tr>\n",
       "      <th>1</th>\n",
       "      <td>4</td>\n",
       "      <td>4.20</td>\n",
       "      <td>0.08</td>\n",
       "      <td>-24.46</td>\n",
       "      <td>-66.36</td>\n",
       "      <td>-25.47</td>\n",
       "      <td>-1.05</td>\n",
       "      <td>-60.63</td>\n",
       "      <td>-20.50</td>\n",
       "      <td>4.97</td>\n",
       "      <td>5.73</td>\n",
       "      <td>0.01</td>\n",
       "      <td>0.01</td>\n",
       "      <td>0.01</td>\n",
       "      <td>1</td>\n",
       "    </tr>\n",
       "    <tr>\n",
       "      <th>2</th>\n",
       "      <td>3</td>\n",
       "      <td>4.15</td>\n",
       "      <td>0.08</td>\n",
       "      <td>-24.46</td>\n",
       "      <td>-66.10</td>\n",
       "      <td>-25.47</td>\n",
       "      <td>1.19</td>\n",
       "      <td>-61.48</td>\n",
       "      <td>-20.83</td>\n",
       "      <td>4.65</td>\n",
       "      <td>4.62</td>\n",
       "      <td>0.03</td>\n",
       "      <td>0.03</td>\n",
       "      <td>0.03</td>\n",
       "      <td>1</td>\n",
       "    </tr>\n",
       "    <tr>\n",
       "      <th>3</th>\n",
       "      <td>2</td>\n",
       "      <td>4.27</td>\n",
       "      <td>0.08</td>\n",
       "      <td>-24.46</td>\n",
       "      <td>-66.03</td>\n",
       "      <td>-25.47</td>\n",
       "      <td>0.15</td>\n",
       "      <td>-65.37</td>\n",
       "      <td>-25.63</td>\n",
       "      <td>-0.16</td>\n",
       "      <td>0.66</td>\n",
       "      <td>-0.03</td>\n",
       "      <td>-0.08</td>\n",
       "      <td>0.04</td>\n",
       "      <td>1</td>\n",
       "    </tr>\n",
       "    <tr>\n",
       "      <th>4</th>\n",
       "      <td>25</td>\n",
       "      <td>4.27</td>\n",
       "      <td>0.08</td>\n",
       "      <td>-24.46</td>\n",
       "      <td>-66.10</td>\n",
       "      <td>-25.47</td>\n",
       "      <td>5.74</td>\n",
       "      <td>-61.10</td>\n",
       "      <td>-20.72</td>\n",
       "      <td>4.75</td>\n",
       "      <td>5.00</td>\n",
       "      <td>0.00</td>\n",
       "      <td>0.00</td>\n",
       "      <td>0.00</td>\n",
       "      <td>1</td>\n",
       "    </tr>\n",
       "  </tbody>\n",
       "</table>\n",
       "</div>"
      ],
      "text/plain": [
       "   PDD  PESQ_raw  DC_mean_ref  ASL_ref  NOISE_mean  RMS_ref  DC_mean_deg  \\\n",
       "0    5      4.26         0.08   -24.46      -66.09   -25.47        -1.06   \n",
       "1    4      4.20         0.08   -24.46      -66.36   -25.47        -1.05   \n",
       "2    3      4.15         0.08   -24.46      -66.10   -25.47         1.19   \n",
       "3    2      4.27         0.08   -24.46      -66.03   -25.47         0.15   \n",
       "4   25      4.27         0.08   -24.46      -66.10   -25.47         5.74   \n",
       "\n",
       "   ASL_deg  RMS_deg  ASL_GAIN_refvdeg  NOISE_GAIN_refvdeg  DELAY_mean  \\\n",
       "0   -60.43   -20.51              4.97                5.66        0.03   \n",
       "1   -60.63   -20.50              4.97                5.73        0.01   \n",
       "2   -61.48   -20.83              4.65                4.62        0.03   \n",
       "3   -65.37   -25.63             -0.16                0.66       -0.03   \n",
       "4   -61.10   -20.72              4.75                5.00        0.00   \n",
       "\n",
       "   DELAY_min  DELAY_max  PESQ_label  \n",
       "0       0.03       0.03           1  \n",
       "1       0.01       0.01           1  \n",
       "2       0.03       0.03           1  \n",
       "3      -0.08       0.04           1  \n",
       "4       0.00       0.00           1  "
      ]
     },
     "execution_count": 27,
     "metadata": {},
     "output_type": "execute_result"
    }
   ],
   "source": [
    "data1.head(5)"
   ]
  },
  {
   "cell_type": "code",
   "execution_count": 28,
   "metadata": {
    "collapsed": false
   },
   "outputs": [],
   "source": [
    "quality_raw = data1['PESQ_label']\n",
    "features_raw = data1.drop(['PESQ_raw', 'PESQ_label'], axis = 1)"
   ]
  },
  {
   "cell_type": "markdown",
   "metadata": {},
   "source": [
    "In the below code cell, we use the sklearn train_test_split method and give it our features data (X)and the target labels (y). It shuffles and dives our dataset into two parts — 80% of it is used for training and the remaining 20% is used for testing purposes."
   ]
  },
  {
   "cell_type": "code",
   "execution_count": 29,
   "metadata": {
    "collapsed": false
   },
   "outputs": [
    {
     "name": "stdout",
     "output_type": "stream",
     "text": [
      "Training set has 468 samples.\n",
      "Testing set has 118 samples.\n"
     ]
    }
   ],
   "source": [
    "# Split the 'features' and 'PESQ_label' data into training and testing sets\n",
    "X_train, X_test, y_train, y_test = train_test_split(features_raw,\n",
    " quality_raw,\n",
    " test_size = 0.2,\n",
    " random_state = 0)\n",
    "# Show the results of the split\n",
    "print(\"Training set has {} samples.\".format(X_train.shape[0]))\n",
    "print(\"Testing set has {} samples.\".format(X_test.shape[0]))"
   ]
  },
  {
   "cell_type": "markdown",
   "metadata": {},
   "source": [
    "Next, we’ll run our training on an algorithm and evaluate its performance.\n",
    "we’ll need a function that’ll accept an ML algorithm of our choice, and the training and testing datasets. The function will run the training, and then will evaluate the performance of the algorithm using some performance metrics.\n",
    "\n",
    "\n",
    "Finally, we’ll write a function where you’ll initialize any 3 algorithms of our choice (Gaussian Naive Bayes, DecisionTreeClassifier, Random Forest Classifier), and run the training on each of them using the above function. we’ll then aggregate all the results, and then visualize them."
   ]
  },
  {
   "cell_type": "code",
   "execution_count": 30,
   "metadata": {
    "collapsed": false
   },
   "outputs": [
    {
     "name": "stderr",
     "output_type": "stream",
     "text": [
      "C:\\Users\\pc\\Anaconda3\\lib\\site-packages\\sklearn\\ensemble\\weight_boosting.py:29: DeprecationWarning: numpy.core.umath_tests is an internal NumPy module and should not be imported. It will be removed in a future NumPy release.\n",
      "  from numpy.core.umath_tests import inner1d\n"
     ]
    }
   ],
   "source": [
    "# Import any three supervised learning classification models from sklearn\n",
    "from sklearn.naive_bayes import GaussianNB\n",
    "from sklearn.tree import DecisionTreeClassifier\n",
    "from sklearn.ensemble import RandomForestClassifier"
   ]
  },
  {
   "cell_type": "code",
   "execution_count": 31,
   "metadata": {
    "collapsed": true
   },
   "outputs": [],
   "source": [
    "# Initialize the three models\n",
    "clf_A = GaussianNB()\n",
    "clf_B = DecisionTreeClassifier(max_depth=None, random_state=None)\n",
    "clf_C = RandomForestClassifier(max_depth=None, random_state=None)"
   ]
  },
  {
   "cell_type": "code",
   "execution_count": 32,
   "metadata": {
    "collapsed": true
   },
   "outputs": [],
   "source": [
    "# Calculate the number of samples for 1%, 10%, and 100% of the training data\n",
    "# samples_100 is the entire training set i.e. len(y_train)\n",
    "# samples_10 is 10% of samples_100\n",
    "# samples_1 is 1% of samples_100\n",
    "\n",
    "samples_100 = len(y_train)\n",
    "samples_10 = int(len(y_train)*10/100)\n",
    "samples_1 = int(len(y_train)*1/100)"
   ]
  },
  {
   "cell_type": "code",
   "execution_count": 33,
   "metadata": {
    "collapsed": true
   },
   "outputs": [],
   "source": [
    "from sklearn.metrics import fbeta_score\n",
    "from sklearn.metrics import accuracy_score\n",
    "\n",
    "def train_predict_evaluate(learner, sample_size, X_train, y_train, X_test, y_test): \n",
    "    '''\n",
    "    inputs:\n",
    "       - learner: the learning algorithm to be trained and predicted on\n",
    "       - sample_size: the size of samples (number) to be drawn from training set\n",
    "       - X_train: features training set\n",
    "       - y_train: quality training set\n",
    "       - X_test: features testing set\n",
    "       - y_test: quality testing set\n",
    "    '''\n",
    "    \n",
    "    results = {}\n",
    "    \n",
    "    \"\"\"\n",
    "    Fit/train the learner to the training data using slicing with 'sample_size' \n",
    "    using .fit(training_features[:], training_labels[:])\n",
    "    \"\"\"\n",
    "    start = time() # Get start time of training\n",
    "    learner = learner.fit(X_train[:sample_size], y_train[:sample_size]) #Train the model\n",
    "    end = time() # Get end time of training\n",
    "    \n",
    "    # Calculate the training time\n",
    "    results['train_time'] = end - start\n",
    "    \n",
    "    \"\"\"\n",
    "    Get the predictions on the first 300 training samples(X_train), \n",
    "    and also predictions on the test set(X_test) using .predict()\n",
    "    \"\"\"\n",
    "    start = time() # Get start time\n",
    "    predictions_train = learner.predict(X_train[:300])\n",
    "    predictions_test = learner.predict(X_test)\n",
    "    \n",
    "    end = time() # Get end time\n",
    "    \n",
    "    # Calculate the total prediction time\n",
    "    results['pred_time'] = end - start\n",
    "            \n",
    "    # Compute accuracy on the first 300 training samples which is y_train[:300]\n",
    "    results['acc_train'] = accuracy_score(y_train[:300], predictions_train)\n",
    "        \n",
    "    # Compute accuracy on test set using accuracy_score()\n",
    "    results['acc_test'] = accuracy_score(y_test, predictions_test)\n",
    "    \n",
    "    # Compute F1-score on the the first 300 training samples using fbeta_score()\n",
    "    results['f_train'] = fbeta_score(y_train[:300], predictions_train, beta=0.5, average='micro')\n",
    "        \n",
    "    # Compute F1-score on the test set which is y_test\n",
    "    results['f_test'] = fbeta_score(y_test, predictions_test, beta=0.5, average='micro')\n",
    "       \n",
    "    # Success\n",
    "    print(\"{} trained on {} samples.\".format(learner.__class__.__name__, sample_size))\n",
    "        \n",
    "    # Return the results\n",
    "    return results"
   ]
  },
  {
   "cell_type": "code",
   "execution_count": 34,
   "metadata": {
    "collapsed": false
   },
   "outputs": [
    {
     "name": "stdout",
     "output_type": "stream",
     "text": [
      "GaussianNB trained on 4 samples.\n",
      "GaussianNB trained on 46 samples.\n",
      "GaussianNB trained on 468 samples.\n",
      "DecisionTreeClassifier trained on 4 samples.\n",
      "DecisionTreeClassifier trained on 46 samples.\n",
      "DecisionTreeClassifier trained on 468 samples.\n",
      "RandomForestClassifier trained on 4 samples.\n",
      "RandomForestClassifier trained on 46 samples.\n",
      "RandomForestClassifier trained on 468 samples.\n"
     ]
    }
   ],
   "source": [
    "# Collect results on the learners\n",
    "results = {}\n",
    "for clf in [clf_A, clf_B, clf_C]:\n",
    "    clf_name = clf.__class__.__name__\n",
    "    results[clf_name] = {}\n",
    "    for i, samples in enumerate([samples_1, samples_10, samples_100]):\n",
    "        results[clf_name][i] = train_predict_evaluate(clf, samples, X_train, y_train, X_test, y_test)"
   ]
  },
  {
   "cell_type": "markdown",
   "metadata": {},
   "source": [
    "The classification algorithms that scikit-learn provides, come with a feature importance attribute. Using this attribute, you can see the importance of each feature by its relative ranks when making predictions, based on the chosen algorithm."
   ]
  },
  {
   "cell_type": "code",
   "execution_count": 35,
   "metadata": {
    "collapsed": false
   },
   "outputs": [],
   "source": [
    "# Import a supervised learning model that has 'feature_importances_'\n",
    "model = RandomForestClassifier(max_depth=None, random_state=None)\n",
    "\n",
    "# Train the supervised model on the training set using .fit(X_train, y_train)\n",
    "model = model.fit(X_train, y_train)\n",
    "\n",
    "# Extract the feature importances using .feature_importances_\n",
    "importances = model.feature_importances_\n",
    "\n",
    "b = (X_train.columns).tolist() \n",
    "a = list(importances)"
   ]
  },
  {
   "cell_type": "code",
   "execution_count": 36,
   "metadata": {
    "collapsed": false
   },
   "outputs": [],
   "source": [
    "y = np.arange(len(b))"
   ]
  },
  {
   "cell_type": "code",
   "execution_count": 37,
   "metadata": {
    "collapsed": false
   },
   "outputs": [
    {
     "data": {
      "text/plain": [
       "<Container object of 13 artists>"
      ]
     },
     "execution_count": 37,
     "metadata": {},
     "output_type": "execute_result"
    },
    {
     "data": {
      "image/png": "[encoded data removed]",
      "text/plain": [
       "<matplotlib.figure.Figure at 0xa2868f0cf8>"
      ]
     },
     "metadata": {},
     "output_type": "display_data"
    }
   ],
   "source": [
    "# Visualise importance of each variable in the model\n",
    "plt.xticks(rotation='vertical')\n",
    "plt.xticks(y,b)\n",
    "plt.bar(y,a)"
   ]
  },
  {
   "cell_type": "markdown",
   "metadata": {},
   "source": [
    "As we can see DC_mean_ref, RMS_ref and PDD are not significant for model building. On the other hand MOS_Ie, DELAY_mean and NOISE_GAIN_refvdeg are significant for model building. for this, we will use all the variables in model building process."
   ]
  },
  {
   "cell_type": "code",
   "execution_count": 38,
   "metadata": {
    "collapsed": false
   },
   "outputs": [
    {
     "name": "stdout",
     "output_type": "stream",
     "text": [
      "Unoptimized model\n",
      "------\n",
      "Accuracy score on testing data: 1.0000\n",
      "F-score on testing data: 1.0000\n",
      "\n",
      "Optimized Model\n",
      "------\n",
      "RandomForestClassifier(bootstrap=True, class_weight=None, criterion='gini',\n",
      "            max_depth=6, max_features=5, max_leaf_nodes=None,\n",
      "            min_impurity_split=1e-07, min_samples_leaf=1,\n",
      "            min_samples_split=2, min_weight_fraction_leaf=0.0,\n",
      "            n_estimators=10, n_jobs=1, oob_score=False, random_state=None,\n",
      "            verbose=0, warm_start=False)\n",
      "\n",
      "Final accuracy score on the testing data: 1.0000\n",
      "Final F-score on the testing data: 1.0000\n"
     ]
    }
   ],
   "source": [
    "# Import 'GridSearchCV', 'make_scorer', and any other necessary libraries\n",
    "from sklearn.model_selection import GridSearchCV\n",
    "from sklearn.metrics import make_scorer\n",
    "\n",
    "# Initialize the classifier\n",
    "clf = RandomForestClassifier(max_depth=None, random_state=None)\n",
    "\n",
    "# Create the parameters or base_estimators list you wish to tune, using a dictionary if needed.\n",
    "# Example: parameters = {'parameter_1': [value1, value2], 'parameter_2': [value1, value2]}\n",
    "\n",
    "\"\"\"\n",
    "n_estimators: Number of trees in the forest\n",
    "max_features: The number of features to consider when looking for the best split\n",
    "max_depth: The maximum depth of the tree\n",
    "\"\"\"\n",
    "parameters = {'n_estimators': [10, 20, 30], 'max_features':[3,4,5, None], 'max_depth': [5,6,7, None]}\n",
    "\n",
    "# Make an fbeta_score scoring object using make_scorer()\n",
    "scorer = make_scorer(fbeta_score, beta=0.5, average=\"micro\")\n",
    "\n",
    "# Perform grid search on the claszsifier using 'scorer' as the scoring method using GridSearchCV()\n",
    "grid_obj = GridSearchCV(clf, parameters, scoring=scorer)\n",
    "\n",
    "# Fit the grid search object to the training data and find the optimal parameters using fit()\n",
    "grid_fit = grid_obj.fit(X_train, y_train)\n",
    "\n",
    "# Get the estimator\n",
    "best_clf = grid_fit.best_estimator_\n",
    "\n",
    "# Make predictions using the unoptimized and model\n",
    "predictions = (clf.fit(X_train, y_train)).predict(X_test)\n",
    "best_predictions = best_clf.predict(X_test)\n",
    "\n",
    "# Report the before-and-afterscores\n",
    "print(\"Unoptimized model\\n------\")\n",
    "print(\"Accuracy score on testing data: {:.4f}\".format(accuracy_score(y_test, predictions)))\n",
    "print(\"F-score on testing data: {:.4f}\".format(fbeta_score(y_test, predictions, beta = 0.5, average=\"micro\")))\n",
    "print(\"\\nOptimized Model\\n------\")\n",
    "print(best_clf)\n",
    "print(\"\\nFinal accuracy score on the testing data: {:.4f}\".format(accuracy_score(y_test, best_predictions)))\n",
    "print(\"Final F-score on the testing data: {:.4f}\".format(fbeta_score(y_test, best_predictions, beta = 0.5,  average=\"micro\")))"
   ]
  },
  {
   "cell_type": "markdown",
   "metadata": {},
   "source": [
    "Out model achieved very high accuracy with a very good F score. Let's make predictions using this model."
   ]
  },
  {
   "cell_type": "code",
   "execution_count": 39,
   "metadata": {
    "collapsed": false
   },
   "outputs": [
    {
     "name": "stdout",
     "output_type": "stream",
     "text": [
      "Predicted quality for PESQ 1 is: 1\n",
      "Predicted quality for PESQ 2 is: 1\n",
      "Predicted quality for PESQ 3 is: 3\n"
     ]
    }
   ],
   "source": [
    "PESQ_data = [[5, 0.08, -24.46, -66.03, -25.47, -1.02, -58.63, -20.51, 4.97, 7.4, 0.03, -0.01, 0.07], #2 \n",
    "[5, 0.08, -24.46, -66.09, -25.47, -1.06, -60.43, -20.51, 4.97, 5.66, 0.03, 0.03, 0.03],#1\n",
    "[10, 0.08, -24.46, -66.46, -25.47, -0.95, -60.44, -20.68, 4.79, 6.02, 0.1, 0.02, 0.16]]#3\n",
    "               \n",
    "# Show predictions\n",
    "for i, quality in enumerate(best_clf.predict(PESQ_data)):\n",
    "    print(\"Predicted quality for PESQ {} is: {}\".format(i+1, quality))\n",
    "    \n",
    "#Expected results:  2,1,3"
   ]
  },
  {
   "cell_type": "markdown",
   "metadata": {
    "collapsed": true
   },
   "source": [
    "Great! Our model predicted each class perfectly. "
   ]
  }
 ],
 "metadata": {
  "kernelspec": {
   "display_name": "Python 3",
   "language": "python",
   "name": "python3"
  },
  "language_info": {
   "codemirror_mode": {
    "name": "ipython",
    "version": 3
   },
   "file_extension": ".py",
   "mimetype": "text/x-python",
   "name": "python",
   "nbconvert_exporter": "python",
   "pygments_lexer": "ipython3",
   "version": "3.6.0"
  }
 },
 "nbformat": 4,
 "nbformat_minor": 2
}
