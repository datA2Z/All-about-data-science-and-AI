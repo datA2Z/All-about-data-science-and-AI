{
 "cells": [
  {
   "cell_type": "markdown",
   "metadata": {},
   "source": [
    "# Text analysis part 1\n",
    "\n",
    "### _Sentiment analysis and word cloud_\n",
    "\n",
    "\n",
    "In this notebook, I will be performing analysis on textual data. This notebook divided into two parts and part 2 notebook can be found [here](https://www.kaggle.com/uciml/sms-spam-collection-dataset) and Dataset used in This notebook can be download from [here](https://www.dropbox.com/s/wc6rzl1a2os721d/yelp.csv?dl=0) \n",
    "\n",
    "\n",
    "\n",
    "\n",
    "#### The dataset\n",
    "\n",
    "Our data contains 10,000 reviews, with the following information for each one:\n",
    "\n",
    "***business_id*** : (ID of the business being reviewed)<br>\n",
    "***date*** : (Day the review was posted)<br>\n",
    "***review_id*** : (ID for the posted review)<br>\n",
    "***stars*** : (1–5 rating for the business)<br>\n",
    "***text*** : (Review text)<br>\n",
    "***type*** : (Type of text)<br>\n",
    "***user_id*** : (User’s id)<br>\n",
    "***{cool / useful / funny}*** : (Comments on the review, given by other users)\n",
    "\n",
    "Let’s see how we can go about analysing this dataset. Lets code..."
   ]
  },
  {
   "cell_type": "code",
   "execution_count": null,
   "metadata": {},
   "outputs": [],
   "source": []
  }
 ],
 "metadata": {
  "kernelspec": {
   "display_name": "Python 3",
   "language": "python",
   "name": "python3"
  },
  "language_info": {
   "codemirror_mode": {
    "name": "ipython",
    "version": 3
   },
   "file_extension": ".py",
   "mimetype": "text/x-python",
   "name": "python",
   "nbconvert_exporter": "python",
   "pygments_lexer": "ipython3",
   "version": "3.6.0"
  }
 },
 "nbformat": 4,
 "nbformat_minor": 2
}
