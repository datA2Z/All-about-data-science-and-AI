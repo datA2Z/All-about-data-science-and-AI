{
 "cells": [
  {
   "cell_type": "markdown",
   "metadata": {},
   "source": [
    "# SMS Spam/Ham classifier using Naive Bayes algorithm\n",
    "\n",
    "\n",
    "Let’s build a spam classifier program in python, which can tell whether a given message is spam or not! We use the simple yet powerful theorem of probability theory called Naive Bayes algorithm."
   ]
  },
  {
   "cell_type": "code",
   "execution_count": 1,
   "metadata": {},
   "outputs": [],
   "source": [
    "# import require a library\n",
    "import pandas\n",
    "from IPython.display import display\n",
    "import numpy as np\n",
    "import os\n",
    "from sklearn.model_selection import train_test_split\n",
    "from sklearn.feature_extraction.text import CountVectorizer\n",
    "from sklearn.naive_bayes import MultinomialNB\n",
    "from sklearn.metrics import accuracy_score,precision_score,recall_score,f1_score\n",
    "import re\n",
    "import matplotlib.pyplot as plt\n",
    "import seaborn as sns\n",
    "%matplotlib inline"
   ]
  },
  {
   "cell_type": "markdown",
   "metadata": {},
   "source": [
    "The SMS Spam Collection is a set of SMS tagged messages that have been collected for SMS Spam research. It contains one set of SMS messages in English of 5,574 messages, tagged acording being ham (legitimate) or spam. Data can be downloaded form [here](https://www.kaggle.com/uciml/sms-spam-collection-dataset)\n",
    "\n",
    "**Note that you need to be logged in to Kaggle in order to download the datasets**."
   ]
  },
  {
   "cell_type": "code",
   "execution_count": 2,
   "metadata": {},
   "outputs": [],
   "source": [
    "#Root to the working directory\n",
    "os.chdir(\"Working directory")\n",
    "data = pandas.read_csv(\"spam.csv\", encoding = \"ISO-8859-1\")"
   ]
  },
  {
   "cell_type": "markdown",
   "metadata": {},
   "source": [
    "We rename the column ‘v1’ as ‘label’ and ‘v2’ as ‘message’."
   ]
  },
  {
   "cell_type": "code",
   "execution_count": 3,
   "metadata": {},
   "outputs": [
    {
     "data": {
      "text/html": [
       "<div>\n",
       "<style scoped>\n",
       "    .dataframe tbody tr th:only-of-type {\n",
       "        vertical-align: middle;\n",
       "    }\n",
       "\n",
       "    .dataframe tbody tr th {\n",
       "        vertical-align: top;\n",
       "    }\n",
       "\n",
       "    .dataframe thead th {\n",
       "        text-align: right;\n",
       "    }\n",
       "</style>\n",
       "<table border=\"1\" class=\"dataframe\">\n",
       "  <thead>\n",
       "    <tr style=\"text-align: right;\">\n",
       "      <th></th>\n",
       "      <th>label</th>\n",
       "      <th>message</th>\n",
       "    </tr>\n",
       "  </thead>\n",
       "  <tbody>\n",
       "    <tr>\n",
       "      <th>count</th>\n",
       "      <td>5572</td>\n",
       "      <td>5572</td>\n",
       "    </tr>\n",
       "    <tr>\n",
       "      <th>unique</th>\n",
       "      <td>2</td>\n",
       "      <td>5169</td>\n",
       "    </tr>\n",
       "    <tr>\n",
       "      <th>top</th>\n",
       "      <td>ham</td>\n",
       "      <td>Sorry, I'll call later</td>\n",
       "    </tr>\n",
       "    <tr>\n",
       "      <th>freq</th>\n",
       "      <td>4825</td>\n",
       "      <td>30</td>\n",
       "    </tr>\n",
       "  </tbody>\n",
       "</table>\n",
       "</div>"
      ],
      "text/plain": [
       "       label                 message\n",
       "count   5572                    5572\n",
       "unique     2                    5169\n",
       "top      ham  Sorry, I'll call later\n",
       "freq    4825                      30"
      ]
     },
     "execution_count": 3,
     "metadata": {},
     "output_type": "execute_result"
    }
   ],
   "source": [
    "#Change column names\n",
    "data = data[['v1', 'v2']]\n",
    "data.columns = ['label', 'message']\n",
    "data.describe()"
   ]
  },
  {
   "cell_type": "code",
   "execution_count": 4,
   "metadata": {},
   "outputs": [
    {
     "data": {
      "text/html": [
       "<div>\n",
       "<style scoped>\n",
       "    .dataframe tbody tr th:only-of-type {\n",
       "        vertical-align: middle;\n",
       "    }\n",
       "\n",
       "    .dataframe tbody tr th {\n",
       "        vertical-align: top;\n",
       "    }\n",
       "\n",
       "    .dataframe thead th {\n",
       "        text-align: right;\n",
       "    }\n",
       "</style>\n",
       "<table border=\"1\" class=\"dataframe\">\n",
       "  <thead>\n",
       "    <tr style=\"text-align: right;\">\n",
       "      <th></th>\n",
       "      <th>label</th>\n",
       "      <th>message</th>\n",
       "      <th>length</th>\n",
       "    </tr>\n",
       "  </thead>\n",
       "  <tbody>\n",
       "    <tr>\n",
       "      <th>0</th>\n",
       "      <td>ham</td>\n",
       "      <td>Go until jurong point, crazy.. Available only ...</td>\n",
       "      <td>111</td>\n",
       "    </tr>\n",
       "    <tr>\n",
       "      <th>1</th>\n",
       "      <td>ham</td>\n",
       "      <td>Ok lar... Joking wif u oni...</td>\n",
       "      <td>29</td>\n",
       "    </tr>\n",
       "    <tr>\n",
       "      <th>2</th>\n",
       "      <td>spam</td>\n",
       "      <td>Free entry in 2 a wkly comp to win FA Cup fina...</td>\n",
       "      <td>155</td>\n",
       "    </tr>\n",
       "    <tr>\n",
       "      <th>3</th>\n",
       "      <td>ham</td>\n",
       "      <td>U dun say so early hor... U c already then say...</td>\n",
       "      <td>49</td>\n",
       "    </tr>\n",
       "    <tr>\n",
       "      <th>4</th>\n",
       "      <td>ham</td>\n",
       "      <td>Nah I don't think he goes to usf, he lives aro...</td>\n",
       "      <td>61</td>\n",
       "    </tr>\n",
       "  </tbody>\n",
       "</table>\n",
       "</div>"
      ],
      "text/plain": [
       "  label                                            message  length\n",
       "0   ham  Go until jurong point, crazy.. Available only ...     111\n",
       "1   ham                      Ok lar... Joking wif u oni...      29\n",
       "2  spam  Free entry in 2 a wkly comp to win FA Cup fina...     155\n",
       "3   ham  U dun say so early hor... U c already then say...      49\n",
       "4   ham  Nah I don't think he goes to usf, he lives aro...      61"
      ]
     },
     "execution_count": 4,
     "metadata": {},
     "output_type": "execute_result"
    }
   ],
   "source": [
    "# Let's inspect dataset\n",
    "data['length'] = data['message'].apply(len)\n",
    "data.head()"
   ]
  },
  {
   "cell_type": "code",
   "execution_count": 5,
   "metadata": {},
   "outputs": [
    {
     "data": {
      "text/plain": [
       "array([<matplotlib.axes._subplots.AxesSubplot object at 0x0000009D906A2908>,\n",
       "       <matplotlib.axes._subplots.AxesSubplot object at 0x0000009D906F9DD8>],\n",
       "      dtype=object)"
      ]
     },
     "execution_count": 5,
     "metadata": {},
     "output_type": "execute_result"
    },
    {
     "data": {
      "image/png": "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\n",
      "text/plain": [
       "<Figure size 720x288 with 2 Axes>"
      ]
     },
     "metadata": {},
     "output_type": "display_data"
    }
   ],
   "source": [
    "# Create histogram\n",
    "data.hist(column='length',by ='label',bins=50,figsize = (10,4))"
   ]
  },
  {
   "cell_type": "code",
   "execution_count": 6,
   "metadata": {},
   "outputs": [],
   "source": [
    "# Funcation to clean text data\n",
    "def clean_data(data):\n",
    "    data['message'] = data.message.str.replace('[^\\x00-\\x7F]','')\n",
    "    data['message'] = data.message.str.replace('\\'','') #Remove the single quote\n",
    "    data['message'] = data.message.str.replace('\\\"','') #Remove the double quote\n",
    "    data['message'] = data.message.str.replace('\\t','') #Remove the tab character\n",
    "    read_file = data\n",
    "    cleanr = re.compile('<.*?>')\n",
    "    \n",
    "    for i in read_file:\n",
    "        read_file[i] = read_file[i].map(lambda x: re.sub(cleanr, '', str(x)))\n",
    "    return read_file"
   ]
  },
  {
   "cell_type": "code",
   "execution_count": 7,
   "metadata": {},
   "outputs": [
    {
     "data": {
      "text/html": [
       "<div>\n",
       "<style scoped>\n",
       "    .dataframe tbody tr th:only-of-type {\n",
       "        vertical-align: middle;\n",
       "    }\n",
       "\n",
       "    .dataframe tbody tr th {\n",
       "        vertical-align: top;\n",
       "    }\n",
       "\n",
       "    .dataframe thead th {\n",
       "        text-align: right;\n",
       "    }\n",
       "</style>\n",
       "<table border=\"1\" class=\"dataframe\">\n",
       "  <thead>\n",
       "    <tr style=\"text-align: right;\">\n",
       "      <th></th>\n",
       "      <th>label</th>\n",
       "      <th>message</th>\n",
       "      <th>length</th>\n",
       "    </tr>\n",
       "  </thead>\n",
       "  <tbody>\n",
       "    <tr>\n",
       "      <th>0</th>\n",
       "      <td>ham</td>\n",
       "      <td>Go until jurong point, crazy.. Available only ...</td>\n",
       "      <td>111</td>\n",
       "    </tr>\n",
       "    <tr>\n",
       "      <th>1</th>\n",
       "      <td>ham</td>\n",
       "      <td>Ok lar... Joking wif u oni...</td>\n",
       "      <td>29</td>\n",
       "    </tr>\n",
       "    <tr>\n",
       "      <th>2</th>\n",
       "      <td>spam</td>\n",
       "      <td>Free entry in 2 a wkly comp to win FA Cup fina...</td>\n",
       "      <td>155</td>\n",
       "    </tr>\n",
       "    <tr>\n",
       "      <th>3</th>\n",
       "      <td>ham</td>\n",
       "      <td>U dun say so early hor... U c already then say...</td>\n",
       "      <td>49</td>\n",
       "    </tr>\n",
       "    <tr>\n",
       "      <th>4</th>\n",
       "      <td>ham</td>\n",
       "      <td>Nah I dont think he goes to usf, he lives arou...</td>\n",
       "      <td>61</td>\n",
       "    </tr>\n",
       "  </tbody>\n",
       "</table>\n",
       "</div>"
      ],
      "text/plain": [
       "  label                                            message length\n",
       "0   ham  Go until jurong point, crazy.. Available only ...    111\n",
       "1   ham                      Ok lar... Joking wif u oni...     29\n",
       "2  spam  Free entry in 2 a wkly comp to win FA Cup fina...    155\n",
       "3   ham  U dun say so early hor... U c already then say...     49\n",
       "4   ham  Nah I dont think he goes to usf, he lives arou...     61"
      ]
     },
     "execution_count": 7,
     "metadata": {},
     "output_type": "execute_result"
    }
   ],
   "source": [
    "#Clean data\n",
    "data = clean_data(data)\n",
    "data.head()"
   ]
  },
  {
   "cell_type": "markdown",
   "metadata": {},
   "source": [
    "Now, In Dataset ‘ham’ is replaced by 0 and ‘spam’ is replaced by 1 in the ‘label’ column. Finally we obtain the following dataframe."
   ]
  },
  {
   "cell_type": "code",
   "execution_count": 8,
   "metadata": {},
   "outputs": [
    {
     "data": {
      "text/html": [
       "<div>\n",
       "<style scoped>\n",
       "    .dataframe tbody tr th:only-of-type {\n",
       "        vertical-align: middle;\n",
       "    }\n",
       "\n",
       "    .dataframe tbody tr th {\n",
       "        vertical-align: top;\n",
       "    }\n",
       "\n",
       "    .dataframe thead th {\n",
       "        text-align: right;\n",
       "    }\n",
       "</style>\n",
       "<table border=\"1\" class=\"dataframe\">\n",
       "  <thead>\n",
       "    <tr style=\"text-align: right;\">\n",
       "      <th></th>\n",
       "      <th>label</th>\n",
       "      <th>message</th>\n",
       "      <th>length</th>\n",
       "    </tr>\n",
       "  </thead>\n",
       "  <tbody>\n",
       "    <tr>\n",
       "      <th>0</th>\n",
       "      <td>0</td>\n",
       "      <td>Go until jurong point, crazy.. Available only ...</td>\n",
       "      <td>111</td>\n",
       "    </tr>\n",
       "    <tr>\n",
       "      <th>1</th>\n",
       "      <td>0</td>\n",
       "      <td>Ok lar... Joking wif u oni...</td>\n",
       "      <td>29</td>\n",
       "    </tr>\n",
       "    <tr>\n",
       "      <th>2</th>\n",
       "      <td>1</td>\n",
       "      <td>Free entry in 2 a wkly comp to win FA Cup fina...</td>\n",
       "      <td>155</td>\n",
       "    </tr>\n",
       "    <tr>\n",
       "      <th>3</th>\n",
       "      <td>0</td>\n",
       "      <td>U dun say so early hor... U c already then say...</td>\n",
       "      <td>49</td>\n",
       "    </tr>\n",
       "    <tr>\n",
       "      <th>4</th>\n",
       "      <td>0</td>\n",
       "      <td>Nah I dont think he goes to usf, he lives arou...</td>\n",
       "      <td>61</td>\n",
       "    </tr>\n",
       "  </tbody>\n",
       "</table>\n",
       "</div>"
      ],
      "text/plain": [
       "   label                                            message length\n",
       "0      0  Go until jurong point, crazy.. Available only ...    111\n",
       "1      0                      Ok lar... Joking wif u oni...     29\n",
       "2      1  Free entry in 2 a wkly comp to win FA Cup fina...    155\n",
       "3      0  U dun say so early hor... U c already then say...     49\n",
       "4      0  Nah I dont think he goes to usf, he lives arou...     61"
      ]
     },
     "execution_count": 8,
     "metadata": {},
     "output_type": "execute_result"
    }
   ],
   "source": [
    "classification = classification = {\"ham\":0,\"spam\":1}\n",
    "data['label']=data['label'].map(classification)\n",
    "data.head()"
   ]
  },
  {
   "cell_type": "markdown",
   "metadata": {},
   "source": [
    "To test our model we should split the data into train dataset and test dataset. We shall use the train dataset t0 train the model and then it will be tested on the test dataset. We shall use 80% of the dataset as train dataset and the rest as test dataset."
   ]
  },
  {
   "cell_type": "code",
   "execution_count": 9,
   "metadata": {},
   "outputs": [],
   "source": [
    "X_train, X_test, y_train, y_test = train_test_split(data['message'],data['label'],test_size=0.2)"
   ]
  },
  {
   "cell_type": "code",
   "execution_count": 10,
   "metadata": {},
   "outputs": [],
   "source": [
    "# Convert a collection of data to a matrix of token counts\n",
    "vectorizer = CountVectorizer()\n",
    "counts = vectorizer.fit_transform(X_train)"
   ]
  },
  {
   "cell_type": "code",
   "execution_count": 11,
   "metadata": {},
   "outputs": [
    {
     "data": {
      "text/plain": [
       "MultinomialNB(alpha=1.0, class_prior=None, fit_prior=True)"
      ]
     },
     "execution_count": 11,
     "metadata": {},
     "output_type": "execute_result"
    }
   ],
   "source": [
    "# Naive Bayes classifier for multinomial models\n",
    "classifier = MultinomialNB()\n",
    "classifier.fit(counts,y_train)"
   ]
  },
  {
   "cell_type": "code",
   "execution_count": 12,
   "metadata": {},
   "outputs": [],
   "source": [
    "# Fit classifier \n",
    "counts_test = vectorizer.transform(X_test)\n",
    "prediction = classifier.predict(counts_test)"
   ]
  },
  {
   "cell_type": "code",
   "execution_count": 13,
   "metadata": {},
   "outputs": [
    {
     "name": "stdout",
     "output_type": "stream",
     "text": [
      "Accuracy score: 0.9874439461883409\n",
      "Precision score: 0.9867549668874173\n",
      "Recall score: 0.9254658385093167\n",
      "F1 score: 0.9551282051282052\n"
     ]
    }
   ],
   "source": [
    "# Let's Check the Accuracy\n",
    "print('Accuracy score: {}'.format(accuracy_score(y_test, prediction)))\n",
    "print('Precision score: {}'.format(precision_score(y_test, prediction)))\n",
    "print('Recall score: {}'.format(recall_score(y_test, prediction)))\n",
    "print('F1 score: {}'.format(f1_score(y_test, prediction)))"
   ]
  },
  {
   "cell_type": "markdown",
   "metadata": {},
   "source": [
    "**That is all for this demonstration. I hope you enjoyed the notebook, and see you in the next one.**"
   ]
  }
 ],
 "metadata": {
  "kernelspec": {
   "display_name": "Python 3",
   "language": "python",
   "name": "python3"
  },
  "language_info": {
   "codemirror_mode": {
    "name": "ipython",
    "version": 3
   },
   "file_extension": ".py",
   "mimetype": "text/x-python",
   "name": "python",
   "nbconvert_exporter": "python",
   "pygments_lexer": "ipython3",
   "version": "3.6.0"
  }
 },
 "nbformat": 4,
 "nbformat_minor": 2
}
